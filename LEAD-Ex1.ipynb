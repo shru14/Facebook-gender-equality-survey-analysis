{
 "cells": [
  {
   "cell_type": "code",
   "execution_count": 1,
   "metadata": {},
   "outputs": [],
   "source": [
    "import pandas as pd\n",
    "import matplotlib.pyplot as plt\n",
    "df = pd.read_excel('/home/neil/Downloads/Exercise 1.xlsx', sheet_name=\"Data\")"
   ]
  },
  {
   "cell_type": "code",
   "execution_count": 2,
   "metadata": {},
   "outputs": [
    {
     "data": {
      "text/plain": [
       "{'East Asia & Pacific',\n",
       " 'Europe and Central Asia',\n",
       " 'Latin America and Caribbean',\n",
       " 'Middle East and North Africa',\n",
       " 'North America',\n",
       " 'South Asia',\n",
       " 'Sub-Saharan Africa'}"
      ]
     },
     "execution_count": 2,
     "metadata": {},
     "output_type": "execute_result"
    }
   ],
   "source": [
    "set(df['Region'].values)"
   ]
  },
  {
   "cell_type": "code",
   "execution_count": 3,
   "metadata": {},
   "outputs": [],
   "source": [
    "EAP = list(set(df[df['Region']=='East Asia & Pacific'][df[df['Region']=='East Asia & Pacific']['Country'].isin(['Thailand','Philippines','Myanmar','Malaysia','Laos','Indonesia', 'China', 'Japan', 'Mongolia', 'North Korea', 'South Korea', 'Taiwan', 'Cambodia'])].Country.values))\n",
    "ECA = list(set(df[df['Region']=='Europe and Central Asia'][df[df['Region']=='Europe and Central Asia']['Country'].isin(['Kazakhstan', 'Kyrgyzstan', 'Tajikistan', 'Turkmenistan','Uzbekistan'])].Country.values))\n",
    "MENASA = list(set(df[df['Region'].isin(['Middle East and North Africa', 'South Asia'])].Country.values))"
   ]
  },
  {
   "cell_type": "code",
   "execution_count": 4,
   "metadata": {},
   "outputs": [],
   "source": [
    "MENASA_updated = []\n",
    "for i in MENASA:\n",
    "    if i not in ['Rest of South Asia', 'Rest of Middle East and North Africa']:\n",
    "        MENASA_updated.append(i)"
   ]
  },
  {
   "cell_type": "code",
   "execution_count": 5,
   "metadata": {},
   "outputs": [],
   "source": [
    "ECA.extend(EAP)"
   ]
  },
  {
   "cell_type": "code",
   "execution_count": 6,
   "metadata": {},
   "outputs": [],
   "source": [
    "ECA.extend(MENASA_updated)"
   ]
  },
  {
   "cell_type": "code",
   "execution_count": 7,
   "metadata": {},
   "outputs": [],
   "source": [
    "data = df[df['Country'].isin(list(set(ECA)))]"
   ]
  },
  {
   "cell_type": "code",
   "execution_count": 8,
   "metadata": {},
   "outputs": [
    {
     "data": {
      "text/plain": [
       "34"
      ]
     },
     "execution_count": 8,
     "metadata": {},
     "output_type": "execute_result"
    }
   ],
   "source": [
    "len(list(set(ECA)))"
   ]
  },
  {
   "cell_type": "code",
   "execution_count": 9,
   "metadata": {},
   "outputs": [
    {
     "data": {
      "text/plain": [
       "Year                    102\n",
       "Region                  102\n",
       "Country                 102\n",
       "Internet_Penetration    102\n",
       "Gender                  102\n",
       "                       ... \n",
       "d7_loan                 102\n",
       "d7_money                102\n",
       "d7_none                 102\n",
       "d7_stuck                102\n",
       "d7_work                 102\n",
       "Length: 92, dtype: int64"
      ]
     },
     "execution_count": 9,
     "metadata": {},
     "output_type": "execute_result"
    }
   ],
   "source": [
    "data.count()"
   ]
  },
  {
   "cell_type": "code",
   "execution_count": 10,
   "metadata": {},
   "outputs": [],
   "source": [
    "pop = pd.read_csv('/home/neil/Downloads/archive/population_by_country_2020.csv')[['Country (or dependency)', 'Population (2020)']]\n",
    "reqd_pop = pop[pop['Country (or dependency)'].isin(list(set(ECA)))].rename(columns={'Country (or dependency)': 'Country', \n",
    "                                                                                   'Population (2020)': 'Population'})\n"
   ]
  },
  {
   "cell_type": "code",
   "execution_count": 11,
   "metadata": {},
   "outputs": [],
   "source": [
    "data_new = pd.merge(\n",
    "    data,\n",
    "    reqd_pop,\n",
    "    how=\"inner\",\n",
    "    on='Country')"
   ]
  },
  {
   "cell_type": "code",
   "execution_count": 12,
   "metadata": {},
   "outputs": [],
   "source": [
    "pen_arry = []\n",
    "for i in data_new['Internet_Penetration'].str.extract('(\\d+)').values:\n",
    "    pen_arry.append(int(i)/100)\n"
   ]
  },
  {
   "cell_type": "code",
   "execution_count": 13,
   "metadata": {},
   "outputs": [],
   "source": [
    "data_new['w'] = pen_arry * data_new['Population']"
   ]
  },
  {
   "cell_type": "code",
   "execution_count": 14,
   "metadata": {},
   "outputs": [],
   "source": [
    "combined_data = data_new[data_new['Gender'] == 'Combined']\n",
    "Male_data =  data_new[data_new['Gender'] == 'Male']\n",
    "Female_data =  data_new[data_new['Gender'] == 'Female']"
   ]
  },
  {
   "cell_type": "code",
   "execution_count": 15,
   "metadata": {},
   "outputs": [
    {
     "data": {
      "text/plain": [
       "85.72825523695127"
      ]
     },
     "execution_count": 15,
     "metadata": {},
     "output_type": "execute_result"
    }
   ],
   "source": [
    "sum(combined_data['a1_agree']* combined_data['w'])/ sum(combined_data['w'])"
   ]
  },
  {
   "cell_type": "code",
   "execution_count": 16,
   "metadata": {},
   "outputs": [
    {
     "data": {
      "text/plain": [
       "82.48632830741317"
      ]
     },
     "execution_count": 16,
     "metadata": {},
     "output_type": "execute_result"
    }
   ],
   "source": [
    "sum(Male_data['a1_agree']* Male_data['w'])/ sum(Male_data['w'])"
   ]
  },
  {
   "cell_type": "code",
   "execution_count": 17,
   "metadata": {},
   "outputs": [
    {
     "data": {
      "text/plain": [
       "88.75316964778825"
      ]
     },
     "execution_count": 17,
     "metadata": {},
     "output_type": "execute_result"
    }
   ],
   "source": [
    "sum(Female_data['a1_agree']* Female_data['w'])/ sum(Female_data['w'])"
   ]
  },
  {
   "cell_type": "code",
   "execution_count": 18,
   "metadata": {},
   "outputs": [
    {
     "data": {
      "text/plain": [
       "5.929027490779039"
      ]
     },
     "execution_count": 18,
     "metadata": {},
     "output_type": "execute_result"
    }
   ],
   "source": [
    "sum(combined_data['a2_opps_other']* combined_data['w'])/ sum(combined_data['w'])"
   ]
  },
  {
   "cell_type": "code",
   "execution_count": 19,
   "metadata": {
    "scrolled": false
   },
   "outputs": [
    {
     "data": {
      "image/png": "[encoded data removed]",
      "text/plain": [
       "<Figure size 1440x720 with 1 Axes>"
      ]
     },
     "metadata": {
      "needs_background": "light"
     },
     "output_type": "display_data"
    }
   ],
   "source": [
    "# 1. Agrrement on “Men and women should have equal opportunities (e.g. in education, jobs, household decision-making) \n",
    "q1_data = pd.concat([combined_data.sort_values(by='a1_agree', ascending=False).head(5), \n",
    "           combined_data.sort_values(by='a1_agree', ascending=False).tail(5)])\n",
    "val = []\n",
    "for a in q1_data[['a1_agree', 'a1_neutral', 'a1_disagree']].values:\n",
    "    for i in a:\n",
    "        val.append(i)\n",
    "\n",
    "df1= pd.DataFrame({'Range':['Agree','Neutral', 'Disagree']*10,\n",
    "        'Value':val})\n",
    "\n",
    "df_value = df1.assign(idx=df1.groupby('Range').cumcount()).pivot(index='idx', columns='Range', values='Value')\n",
    "# set colors\n",
    "colors = ['lightgreen', 'red', 'orange']\n",
    "# plot the price\n",
    "ax = df_value.plot.bar(stacked=True, figsize=(20, 10), color=colors, ec='w')\n",
    "# label the x-axis\n",
    "plt.xticks(ticks=range(10), labels=q1_data.Country.values, rotation=0)\n",
    "# x-axis title\n",
    "plt.xlabel('Countries')\n",
    "# position the legend\n",
    "plt.legend(bbox_to_anchor=(1.05, 1), loc='upper left')\n",
    "col_idx = 0\n",
    "row_idx = 0\n",
    "# iterate through each bar patch from ax\n",
    "for i, p in enumerate(ax.patches, 1):\n",
    "    left, bottom, width, height = p.get_bbox().bounds\n",
    "    v = df_value.iloc[row_idx, col_idx]\n",
    "    if width > 0:\n",
    "        ax.annotate(f'{v:0.0f}', xy=(left+width/2, bottom+height/2), ha='center', va='center')\n",
    "    row_idx += 1\n",
    "    if i%10 == 0:  \n",
    "        col_idx += 1\n",
    "        row_idx = 0\n",
    "plt.savefig('/home/neil/LEAD_images/q1.png')"
   ]
  },
  {
   "cell_type": "code",
   "execution_count": 20,
   "metadata": {
    "scrolled": false
   },
   "outputs": [
    {
     "data": {
      "image/png": "[encoded data removed]",
      "text/plain": [
       "<Figure size 720x504 with 1 Axes>"
      ]
     },
     "metadata": {},
     "output_type": "display_data"
    }
   ],
   "source": [
    "import numpy as np \n",
    "import matplotlib.pyplot as plt \n",
    "  \n",
    "  \n",
    "# Creating dataset \n",
    "ag = ['Agree', 'Neutral', 'Disagree']\n",
    "  \n",
    "d = [sum(Female_data['a1_agree']* Female_data['w'])/ sum(Female_data['w']),\n",
    "     sum(Female_data['a1_neutral']* Female_data['w'])/ sum(Female_data['w']),\n",
    "     sum(Female_data['a1_disagree']* Female_data['w'])/ sum(Female_data['w'])] \n",
    "  \n",
    "  \n",
    "# Creating explode data \n",
    "explode = (0.1, 0.0, 0.1) \n",
    "  \n",
    "# Creating color parameters \n",
    "colors = (\"lightgreen\", \"lightblue\", \"red\")\n",
    "  \n",
    "# Wedge properties \n",
    "wp = { 'linewidth' : 1, 'edgecolor' : \"green\" } \n",
    "  \n",
    "# Creating autocpt arguments \n",
    "def func(pct, allvalues): \n",
    "    absolute = int(pct / 100.*np.sum(allvalues)) \n",
    "    return \"{:.1f}%\\n\".format(pct, absolute) \n",
    "  \n",
    "# Creating plot \n",
    "fig, ax = plt.subplots(figsize =(10, 7)) \n",
    "wedges, texts, autotexts = ax.pie(d,  \n",
    "                                  autopct = lambda pct: func(pct, d), \n",
    "                                  explode = explode,  \n",
    "                                  labels = ag, \n",
    "                                  shadow = True, \n",
    "                                  colors = colors, \n",
    "                                  startangle = 90, \n",
    "                                  wedgeprops = wp, \n",
    "                                  textprops = dict(color =\"black\")) \n",
    "  \n",
    "# Adding legend \n",
    "ax.legend(wedges, ag, \n",
    "          title =\"Female Agreement\", \n",
    "          loc =\"center left\", \n",
    "          bbox_to_anchor =(1, 0, 0.5, 1)) \n",
    "  \n",
    "plt.setp(autotexts, size = 8, weight =\"bold\") \n",
    "ax.set_title(\"Men and women should have equal opportunities\") \n",
    "  \n",
    "# show plot \n",
    "plt.show() "
   ]
  },
  {
   "cell_type": "code",
   "execution_count": 21,
   "metadata": {
    "scrolled": true
   },
   "outputs": [
    {
     "data": {
      "image/png": "[encoded data removed]",
      "text/plain": [
       "<Figure size 1440x720 with 1 Axes>"
      ]
     },
     "metadata": {
      "needs_background": "light"
     },
     "output_type": "display_data"
    }
   ],
   "source": [
    "# 1.The household expenses are the responsibility of the man, even if his wife can help him \n",
    "q2_data = pd.concat([combined_data.sort_values(by='b4_agree', ascending=False).head(5), \n",
    "           combined_data.sort_values(by='b4_agree', ascending=False).tail(5)])\n",
    "val1 = []\n",
    "for a in q2_data[['b4_agree', 'b4_neutral', 'b4_disagree']].values:\n",
    "    for i in a:\n",
    "        val1.append(i)\n",
    "\n",
    "df1= pd.DataFrame({'Range':['Agree','Neutral', 'Disagree']*10,\n",
    "        'Value':val1})\n",
    "\n",
    "df_value = df1.assign(idx=df1.groupby('Range').cumcount()).pivot(index='idx', columns='Range', values='Value')\n",
    "# set colors\n",
    "colors = ['lightgreen', 'red', 'orange']\n",
    "# plot the price\n",
    "ax = df_value.plot.bar(stacked=True, figsize=(20, 10), color=colors, ec='w')\n",
    "# label the x-axis\n",
    "plt.xticks(ticks=range(10), labels=q2_data.Country.values, rotation=0)\n",
    "# x-axis title\n",
    "plt.xlabel('Countries')\n",
    "# position the legend\n",
    "plt.legend(bbox_to_anchor=(1.05, 1), loc='upper left')\n",
    "col_idx = 0\n",
    "row_idx = 0\n",
    "# iterate through each bar patch from ax\n",
    "for i, p in enumerate(ax.patches, 1):\n",
    "    left, bottom, width, height = p.get_bbox().bounds\n",
    "    v = df_value.iloc[row_idx, col_idx]\n",
    "    if width > 0:\n",
    "        ax.annotate(f'{v:0.0f}', xy=(left+width/2, bottom+height/2), ha='center', va='center')\n",
    "    row_idx += 1\n",
    "    if i%10 == 0:  \n",
    "        col_idx += 1\n",
    "        row_idx = 0\n",
    "plt.savefig('/home/neil/LEAD_images/q2.png')"
   ]
  },
  {
   "cell_type": "code",
   "execution_count": 22,
   "metadata": {},
   "outputs": [
    {
     "data": {
      "text/plain": [
       "46.108239183625145"
      ]
     },
     "execution_count": 22,
     "metadata": {},
     "output_type": "execute_result"
    }
   ],
   "source": [
    "sum(combined_data['b4_agree']* combined_data['w'])/ sum(combined_data['w'])"
   ]
  },
  {
   "cell_type": "code",
   "execution_count": 23,
   "metadata": {},
   "outputs": [
    {
     "data": {
      "text/plain": [
       "53.46381856792684"
      ]
     },
     "execution_count": 23,
     "metadata": {},
     "output_type": "execute_result"
    }
   ],
   "source": [
    "sum(Male_data['b4_agree']* Male_data['w'])/ sum(Male_data['w'])"
   ]
  },
  {
   "cell_type": "code",
   "execution_count": 24,
   "metadata": {},
   "outputs": [
    {
     "data": {
      "text/plain": [
       "38.69739219098226"
      ]
     },
     "execution_count": 24,
     "metadata": {},
     "output_type": "execute_result"
    }
   ],
   "source": [
    "sum(Female_data['b4_agree']* Female_data['w'])/ sum(Female_data['w'])"
   ]
  },
  {
   "cell_type": "code",
   "execution_count": 25,
   "metadata": {},
   "outputs": [
    {
     "data": {
      "text/plain": [
       "6.263672293071627"
      ]
     },
     "execution_count": 25,
     "metadata": {},
     "output_type": "execute_result"
    }
   ],
   "source": [
    "sum(combined_data['b5_man_other']* combined_data['w'])/ sum(combined_data['w'])"
   ]
  },
  {
   "cell_type": "code",
   "execution_count": 26,
   "metadata": {
    "scrolled": true
   },
   "outputs": [
    {
     "data": {
      "image/png": "[encoded data removed]",
      "text/plain": [
       "<Figure size 720x504 with 1 Axes>"
      ]
     },
     "metadata": {},
     "output_type": "display_data"
    }
   ],
   "source": [
    "import numpy as np \n",
    "import matplotlib.pyplot as plt \n",
    "  \n",
    "  \n",
    "# Creating dataset \n",
    "ag = ['Agree', 'Neutral', 'Disagree']\n",
    "  \n",
    "d =  [sum(Female_data['b4_agree']* Female_data['w'])/ sum(Female_data['w']),\n",
    "     sum(Female_data['b4_neutral']* Female_data['w'])/ sum(Female_data['w']),\n",
    "     sum(Female_data['b4_disagree']* Female_data['w'])/ sum(Female_data['w'])] \n",
    "  \n",
    "  \n",
    "# Creating explode data \n",
    "explode = (0.1, 0.0, 0.1) \n",
    "  \n",
    "# Creating color parameters \n",
    "colors = (\"lightgreen\", \"lightblue\", \"red\")\n",
    "  \n",
    "# Wedge properties \n",
    "wp = { 'linewidth' : 1, 'edgecolor' : \"green\" } \n",
    "  \n",
    "# Creating autocpt arguments \n",
    "def func(pct, allvalues): \n",
    "    absolute = int(pct / 100.*np.sum(allvalues)) \n",
    "    return \"{:.1f}%\\n\".format(pct, absolute) \n",
    "  \n",
    "# Creating plot \n",
    "fig, ax = plt.subplots(figsize =(10, 7)) \n",
    "wedges, texts, autotexts = ax.pie(d,  \n",
    "                                  autopct = lambda pct: func(pct, d), \n",
    "                                  explode = explode,  \n",
    "                                  labels = ag, \n",
    "                                  shadow = True, \n",
    "                                  colors = colors, \n",
    "                                  startangle = 90, \n",
    "                                  wedgeprops = wp, \n",
    "                                  textprops = dict(color =\"black\")) \n",
    "  \n",
    "# Adding legend \n",
    "ax.legend(wedges, ag, \n",
    "          title =\"Female Agreement\", \n",
    "          loc =\"center left\", \n",
    "          bbox_to_anchor =(1, 0, 0.5, 1)) \n",
    "  \n",
    "plt.setp(autotexts, size = 8, weight =\"bold\") \n",
    "ax.set_title(\"The household expenses are the responsibility of the man, even if his wife can help him\") \n",
    "  \n",
    "# show plot \n",
    "plt.show() "
   ]
  },
  {
   "cell_type": "code",
   "execution_count": 27,
   "metadata": {
    "scrolled": true
   },
   "outputs": [
    {
     "data": {
      "image/png": "[encoded data removed]",
      "text/plain": [
       "<Figure size 1440x720 with 1 Axes>"
      ]
     },
     "metadata": {
      "needs_background": "light"
     },
     "output_type": "display_data"
    }
   ],
   "source": [
    "# 1.The household expenses are the responsibility of the man, even if his wife can help him \n",
    "q2_data = pd.concat([combined_data.sort_values(by='c3_agree', ascending=False).head(5), \n",
    "           combined_data.sort_values(by='c3_agree', ascending=False).tail(5)])\n",
    "val1 = []\n",
    "for a in q2_data[['c3_agree', 'c3_neutral', 'c3_disagree']].values:\n",
    "    for i in a:\n",
    "        val1.append(i)\n",
    "\n",
    "df1= pd.DataFrame({'Range':['Agree','Neutral', 'Disagree']*10,\n",
    "        'Value':val1})\n",
    "\n",
    "df_value = df1.assign(idx=df1.groupby('Range').cumcount()).pivot(index='idx', columns='Range', values='Value')\n",
    "# set colors\n",
    "colors = ['lightgreen', 'red', 'orange']\n",
    "# plot the price\n",
    "ax = df_value.plot.bar(stacked=True, figsize=(20, 10), color=colors, ec='w')\n",
    "# label the x-axis\n",
    "plt.xticks(ticks=range(10), labels=q1_data.Country.values, rotation=0)\n",
    "# x-axis title\n",
    "plt.xlabel('Countries')\n",
    "# position the legend\n",
    "plt.legend(bbox_to_anchor=(1.05, 1), loc='upper left')\n",
    "col_idx = 0\n",
    "row_idx = 0\n",
    "# iterate through each bar patch from ax\n",
    "for i, p in enumerate(ax.patches, 1):\n",
    "    left, bottom, width, height = p.get_bbox().bounds\n",
    "    v = df_value.iloc[row_idx, col_idx]\n",
    "    if width > 0:\n",
    "        ax.annotate(f'{v:0.0f}', xy=(left+width/2, bottom+height/2), ha='center', va='center')\n",
    "    row_idx += 1\n",
    "    if i%10 == 0:  \n",
    "        col_idx += 1\n",
    "        row_idx = 0\n",
    "plt.savefig('/home/neil/LEAD_images/q3.png')"
   ]
  },
  {
   "cell_type": "code",
   "execution_count": 28,
   "metadata": {},
   "outputs": [
    {
     "data": {
      "text/plain": [
       "64.7682234407754"
      ]
     },
     "execution_count": 28,
     "metadata": {},
     "output_type": "execute_result"
    }
   ],
   "source": [
    "sum(combined_data['c3_agree']* combined_data['w'])/ sum(combined_data['w'])"
   ]
  },
  {
   "cell_type": "code",
   "execution_count": 29,
   "metadata": {},
   "outputs": [
    {
     "data": {
      "text/plain": [
       "69.33923301228752"
      ]
     },
     "execution_count": 29,
     "metadata": {},
     "output_type": "execute_result"
    }
   ],
   "source": [
    "sum(Male_data['c3_agree']* Male_data['w'])/ sum(Male_data['w'])"
   ]
  },
  {
   "cell_type": "code",
   "execution_count": 30,
   "metadata": {},
   "outputs": [
    {
     "data": {
      "text/plain": [
       "59.444358529045836"
      ]
     },
     "execution_count": 30,
     "metadata": {},
     "output_type": "execute_result"
    }
   ],
   "source": [
    "sum(Female_data['c3_agree']* Female_data['w'])/ sum(Female_data['w'])"
   ]
  },
  {
   "cell_type": "code",
   "execution_count": 31,
   "metadata": {},
   "outputs": [
    {
     "data": {
      "text/plain": [
       "6.916442961786676"
      ]
     },
     "execution_count": 31,
     "metadata": {},
     "output_type": "execute_result"
    }
   ],
   "source": [
    "sum(combined_data['c4_housewife_other']* combined_data['w'])/ sum(combined_data['w'])"
   ]
  },
  {
   "cell_type": "code",
   "execution_count": 32,
   "metadata": {},
   "outputs": [
    {
     "data": {
      "image/png": "[encoded data removed]",
      "text/plain": [
       "<Figure size 720x504 with 1 Axes>"
      ]
     },
     "metadata": {},
     "output_type": "display_data"
    }
   ],
   "source": [
    "import numpy as np \n",
    "import matplotlib.pyplot as plt \n",
    "  \n",
    "  \n",
    "# Creating dataset \n",
    "ag = ['Agree', 'Neutral', 'Disagree']\n",
    "  \n",
    "d =  [sum(Female_data['c3_agree']* Female_data['w'])/ sum(Female_data['w']),\n",
    "     sum(Female_data['c3_neutral']* Female_data['w'])/ sum(Female_data['w']),\n",
    "     sum(Female_data['c3_disagree']* Female_data['w'])/ sum(Female_data['w'])] \n",
    "  \n",
    "  \n",
    "# Creating explode data \n",
    "explode = (0.1, 0.0, 0.1) \n",
    "  \n",
    "# Creating color parameters \n",
    "colors = (\"lightgreen\", \"lightblue\", \"red\")\n",
    "  \n",
    "# Wedge properties \n",
    "wp = { 'linewidth' : 1, 'edgecolor' : \"green\" } \n",
    "  \n",
    "# Creating autocpt arguments \n",
    "def func(pct, allvalues): \n",
    "    absolute = int(pct / 100.*np.sum(allvalues)) \n",
    "    return \"{:.1f}%\\n\".format(pct, absolute) \n",
    "  \n",
    "# Creating plot \n",
    "fig, ax = plt.subplots(figsize =(10, 7)) \n",
    "wedges, texts, autotexts = ax.pie(d,  \n",
    "                                  autopct = lambda pct: func(pct, d), \n",
    "                                  explode = explode,  \n",
    "                                  labels = ag, \n",
    "                                  shadow = True, \n",
    "                                  colors = colors, \n",
    "                                  startangle = 90, \n",
    "                                  wedgeprops = wp, \n",
    "                                  textprops = dict(color =\"black\")) \n",
    "  \n",
    "# Adding legend \n",
    "ax.legend(wedges, ag, \n",
    "          title =\"Female Agreement\", \n",
    "          loc =\"center left\", \n",
    "          bbox_to_anchor =(1, 0, 0.5, 1)) \n",
    "  \n",
    "plt.setp(autotexts, size = 8, weight =\"bold\") \n",
    "ax.set_title(\"A woman's most important role is to take care of her home and children\") \n",
    "  \n",
    "# show plot \n",
    "plt.show() \n"
   ]
  },
  {
   "cell_type": "code",
   "execution_count": 33,
   "metadata": {
    "scrolled": true
   },
   "outputs": [
    {
     "data": {
      "image/png": "[encoded data removed]",
      "text/plain": [
       "<Figure size 1440x720 with 1 Axes>"
      ]
     },
     "metadata": {
      "needs_background": "light"
     },
     "output_type": "display_data"
    }
   ],
   "source": [
    "# 1.The household expenses are the responsibility of the man, even if his wife can help him \n",
    "q2_data = pd.concat([Female_data.sort_values(by='d5_agree', ascending=False).head(5), \n",
    "           Female_data.sort_values(by='d5_agree', ascending=False).tail(5)])\n",
    "val1 = []\n",
    "for a in q2_data[['d5_agree', 'd5_neutral', 'd5_disagree']].values:\n",
    "    for i in a:\n",
    "        val1.append(i)\n",
    "\n",
    "df1= pd.DataFrame({'Range':['Agree','Neutral', 'Disagree']*10,\n",
    "        'Value':val1})\n",
    "\n",
    "df_value = df1.assign(idx=df1.groupby('Range').cumcount()).pivot(index='idx', columns='Range', values='Value')\n",
    "# set colors\n",
    "colors = ['lightgreen', 'red', 'orange']\n",
    "# plot the price\n",
    "ax = df_value.plot.bar(stacked=True, figsize=(20, 10), color=colors, ec='w')\n",
    "# label the x-axis\n",
    "plt.xticks(ticks=range(10), labels=q1_data.Country.values, rotation=0)\n",
    "# x-axis title\n",
    "plt.xlabel('Countries')\n",
    "# position the legend\n",
    "plt.legend(bbox_to_anchor=(1.05, 1), loc='upper left')\n",
    "col_idx = 0\n",
    "row_idx = 0\n",
    "# iterate through each bar patch from ax\n",
    "for i, p in enumerate(ax.patches, 1):\n",
    "    left, bottom, width, height = p.get_bbox().bounds\n",
    "    v = df_value.iloc[row_idx, col_idx]\n",
    "    if width > 0:\n",
    "        ax.annotate(f'{v:0.0f}', xy=(left+width/2, bottom+height/2), ha='center', va='center')\n",
    "    row_idx += 1\n",
    "    if i%10 == 0:  \n",
    "        col_idx += 1\n",
    "        row_idx = 0\n",
    "plt.savefig('/home/neil/LEAD_images/q5.png')"
   ]
  },
  {
   "cell_type": "code",
   "execution_count": 34,
   "metadata": {},
   "outputs": [
    {
     "data": {
      "text/plain": [
       "30.747292879984805"
      ]
     },
     "execution_count": 34,
     "metadata": {},
     "output_type": "execute_result"
    }
   ],
   "source": [
    "sum(combined_data['d5_agree']* combined_data['w'])/ sum(combined_data['w'])"
   ]
  },
  {
   "cell_type": "code",
   "execution_count": 35,
   "metadata": {},
   "outputs": [
    {
     "data": {
      "text/plain": [
       "31.10165025646165"
      ]
     },
     "execution_count": 35,
     "metadata": {},
     "output_type": "execute_result"
    }
   ],
   "source": [
    "sum(Male_data['d5_agree']* Male_data['w'])/ sum(Male_data['w'])"
   ]
  },
  {
   "cell_type": "code",
   "execution_count": 36,
   "metadata": {},
   "outputs": [
    {
     "data": {
      "text/plain": [
       "30.053280254236423"
      ]
     },
     "execution_count": 36,
     "metadata": {},
     "output_type": "execute_result"
    }
   ],
   "source": [
    "sum(Female_data['d5_agree']* Female_data['w'])/ sum(Female_data['w'])"
   ]
  },
  {
   "cell_type": "code",
   "execution_count": 37,
   "metadata": {
    "scrolled": true
   },
   "outputs": [
    {
     "data": {
      "image/png": "[encoded data removed]",
      "text/plain": [
       "<Figure size 720x504 with 1 Axes>"
      ]
     },
     "metadata": {},
     "output_type": "display_data"
    }
   ],
   "source": [
    "import numpy as np \n",
    "import matplotlib.pyplot as plt \n",
    "  \n",
    "  \n",
    "# Creating dataset \n",
    "ag = ['Agree', 'Neutral', 'Disagree']\n",
    "  \n",
    "d = [sum(Female_data['d5_agree']* Female_data['w'])/ sum(Female_data['w']),\n",
    "     sum(Female_data['d5_neutral']* Female_data['w'])/ sum(Female_data['w']),\n",
    "     sum(Female_data['d5_disagree']* Female_data['w'])/ sum(Female_data['w'])] \n",
    "  \n",
    "  \n",
    "# Creating explode data \n",
    "explode = (0.1, 0.0, 0.1) \n",
    "  \n",
    "# Creating color parameters \n",
    "colors = (\"lightgreen\", \"lightblue\", \"red\")\n",
    "  \n",
    "# Wedge properties \n",
    "wp = { 'linewidth' : 1, 'edgecolor' : \"green\" } \n",
    "  \n",
    "# Creating autocpt arguments \n",
    "def func(pct, allvalues): \n",
    "    absolute = int(pct / 100.*np.sum(allvalues)) \n",
    "    return \"{:.1f}%\\n\".format(pct, absolute) \n",
    "  \n",
    "# Creating plot \n",
    "fig, ax = plt.subplots(figsize =(10, 7)) \n",
    "wedges, texts, autotexts = ax.pie(d,  \n",
    "                                  autopct = lambda pct: func(pct, d), \n",
    "                                  explode = explode,  \n",
    "                                  labels = ag, \n",
    "                                  shadow = True, \n",
    "                                  colors = colors, \n",
    "                                  startangle = 90, \n",
    "                                  wedgeprops = wp, \n",
    "                                  textprops = dict(color =\"black\")) \n",
    "  \n",
    "# Adding legend \n",
    "ax.legend(wedges, ag, \n",
    "          title =\"Female Agreement\", \n",
    "          loc =\"center left\", \n",
    "          bbox_to_anchor =(1, 0, 0.5, 1)) \n",
    "  \n",
    "plt.setp(autotexts, size = 8, weight =\"bold\") \n",
    "ax.set_title(\"There are times when I feel uncomfortable or even unsafe in my house\") \n",
    "  \n",
    "# show plot \n",
    "plt.show() "
   ]
  },
  {
   "cell_type": "code",
   "execution_count": 38,
   "metadata": {},
   "outputs": [],
   "source": [
    "good_picture = combined_data[['Country', 'a1_agree', 'b4_disagree', 'c3_disagree', 'd5_disagree']]"
   ]
  },
  {
   "cell_type": "code",
   "execution_count": 39,
   "metadata": {
    "scrolled": true
   },
   "outputs": [
    {
     "name": "stderr",
     "output_type": "stream",
     "text": [
      "/home/neil/miniconda/lib/python3.7/site-packages/ipykernel_launcher.py:3: SettingWithCopyWarning: \n",
      "A value is trying to be set on a copy of a slice from a DataFrame.\n",
      "Try using .loc[row_indexer,col_indexer] = value instead\n",
      "\n",
      "See the caveats in the documentation: https://pandas.pydata.org/pandas-docs/stable/user_guide/indexing.html#returning-a-view-versus-a-copy\n",
      "  This is separate from the ipykernel package so we can avoid doing imports until\n",
      "/home/neil/miniconda/lib/python3.7/site-packages/ipykernel_launcher.py:4: SettingWithCopyWarning: \n",
      "A value is trying to be set on a copy of a slice from a DataFrame.\n",
      "Try using .loc[row_indexer,col_indexer] = value instead\n",
      "\n",
      "See the caveats in the documentation: https://pandas.pydata.org/pandas-docs/stable/user_guide/indexing.html#returning-a-view-versus-a-copy\n",
      "  after removing the cwd from sys.path.\n",
      "/home/neil/miniconda/lib/python3.7/site-packages/ipykernel_launcher.py:5: SettingWithCopyWarning: \n",
      "A value is trying to be set on a copy of a slice from a DataFrame.\n",
      "Try using .loc[row_indexer,col_indexer] = value instead\n",
      "\n",
      "See the caveats in the documentation: https://pandas.pydata.org/pandas-docs/stable/user_guide/indexing.html#returning-a-view-versus-a-copy\n",
      "  \"\"\"\n",
      "/home/neil/miniconda/lib/python3.7/site-packages/ipykernel_launcher.py:6: SettingWithCopyWarning: \n",
      "A value is trying to be set on a copy of a slice from a DataFrame.\n",
      "Try using .loc[row_indexer,col_indexer] = value instead\n",
      "\n",
      "See the caveats in the documentation: https://pandas.pydata.org/pandas-docs/stable/user_guide/indexing.html#returning-a-view-versus-a-copy\n",
      "  \n",
      "/home/neil/miniconda/lib/python3.7/site-packages/ipykernel_launcher.py:20: SettingWithCopyWarning: \n",
      "A value is trying to be set on a copy of a slice from a DataFrame.\n",
      "Try using .loc[row_indexer,col_indexer] = value instead\n",
      "\n",
      "See the caveats in the documentation: https://pandas.pydata.org/pandas-docs/stable/user_guide/indexing.html#returning-a-view-versus-a-copy\n",
      "/home/neil/miniconda/lib/python3.7/site-packages/ipykernel_launcher.py:21: SettingWithCopyWarning: \n",
      "A value is trying to be set on a copy of a slice from a DataFrame.\n",
      "Try using .loc[row_indexer,col_indexer] = value instead\n",
      "\n",
      "See the caveats in the documentation: https://pandas.pydata.org/pandas-docs/stable/user_guide/indexing.html#returning-a-view-versus-a-copy\n",
      "/home/neil/miniconda/lib/python3.7/site-packages/ipykernel_launcher.py:22: SettingWithCopyWarning: \n",
      "A value is trying to be set on a copy of a slice from a DataFrame.\n",
      "Try using .loc[row_indexer,col_indexer] = value instead\n",
      "\n",
      "See the caveats in the documentation: https://pandas.pydata.org/pandas-docs/stable/user_guide/indexing.html#returning-a-view-versus-a-copy\n"
     ]
    }
   ],
   "source": [
    "#TOPSIS\n",
    "import math\n",
    "good_picture['a1_agree'] = 0.25*good_picture['a1_agree']/math.sqrt(sum(i*i for i in good_picture['a1_agree'].values))\n",
    "good_picture['b4_disagree'] = 0.25*good_picture['b4_disagree']/math.sqrt(sum(i*i for i in good_picture['b4_disagree'].values))\n",
    "good_picture['c3_disagree'] = 0.25*good_picture['c3_disagree']/math.sqrt(sum(i*i for i in good_picture['c3_disagree'].values))\n",
    "good_picture['d5_disagree'] = 0.25*good_picture['d5_disagree']/math.sqrt(sum(i*i for i in good_picture['d5_disagree'].values))\n",
    "max_array = [good_picture['a1_agree'].max(), good_picture['b4_disagree'].max(), good_picture['c3_disagree'].max(), good_picture['d5_disagree'].max()]\n",
    "min_array = [good_picture['a1_agree'].min(), good_picture['b4_disagree'].min(), good_picture['c3_disagree'].min(), good_picture['d5_disagree'].min()]\n",
    "\n",
    "dist_from_max = []\n",
    "for i, value in good_picture.iterrows():\n",
    "    dis = math.sqrt((value['a1_agree']-max_array[0])**2 + (value['b4_disagree']-max_array[1])**2+ (value['c3_disagree']-max_array[2])**2+ (value['d5_disagree']-max_array[3])**2)\n",
    "    dist_from_max.append(dis)\n",
    "    \n",
    "dist_from_min = []\n",
    "for i, value in good_picture.iterrows():\n",
    "    dis = math.sqrt((value['a1_agree']-min_array[0])**2 + (value['b4_disagree']-min_array[1])**2+ (value['c3_disagree']-min_array[2])**2+ (value['d5_disagree']-min_array[3])**2)\n",
    "    dist_from_min.append(dis)\n",
    "    \n",
    "good_picture['dist_from_max'] = dist_from_max\n",
    "good_picture['dist_from_min'] = dist_from_min\n",
    "good_picture['performance'] = (good_picture['dist_from_max'] + good_picture['dist_from_min'])/good_picture['dist_from_min']\n"
   ]
  },
  {
   "cell_type": "code",
   "execution_count": 40,
   "metadata": {},
   "outputs": [
    {
     "name": "stderr",
     "output_type": "stream",
     "text": [
      "/home/neil/miniconda/lib/python3.7/site-packages/ipykernel_launcher.py:1: SettingWithCopyWarning: \n",
      "A value is trying to be set on a copy of a slice from a DataFrame.\n",
      "Try using .loc[row_indexer,col_indexer] = value instead\n",
      "\n",
      "See the caveats in the documentation: https://pandas.pydata.org/pandas-docs/stable/user_guide/indexing.html#returning-a-view-versus-a-copy\n",
      "  \"\"\"Entry point for launching an IPython kernel.\n"
     ]
    }
   ],
   "source": [
    "good_picture['rank'] = good_picture['performance'].rank()"
   ]
  },
  {
   "cell_type": "code",
   "execution_count": 41,
   "metadata": {},
   "outputs": [],
   "source": [
    "perf = pd.concat([good_picture.sort_values(by='performance', ascending=True).head(5), \n",
    "          good_picture.sort_values(by='performance', ascending=True).tail(5)])"
   ]
  },
  {
   "cell_type": "code",
   "execution_count": 42,
   "metadata": {},
   "outputs": [
    {
     "data": {
      "image/png": "[encoded data removed]",
      "text/plain": [
       "<Figure size 1152x648 with 1 Axes>"
      ]
     },
     "metadata": {
      "needs_background": "light"
     },
     "output_type": "display_data"
    }
   ],
   "source": [
    "import pandas as pd \n",
    "from matplotlib import pyplot as plt \n",
    "\n",
    "name = perf['Country']\n",
    "price = perf['rank']\n",
    "\n",
    "# Figure Size \n",
    "fig, ax = plt.subplots(figsize =(16, 9)) \n",
    "\n",
    "# Horizontal Bar Plot \n",
    "ax.barh(name, price) \n",
    "\n",
    "# Remove axes splines \n",
    "for s in ['top', 'bottom', 'left', 'right']: \n",
    "\tax.spines[s].set_visible(False) \n",
    "\n",
    "# Remove x, y Ticks \n",
    "ax.xaxis.set_ticks_position('none') \n",
    "ax.yaxis.set_ticks_position('none') \n",
    "\n",
    "# Add padding between axes and labels \n",
    "ax.xaxis.set_tick_params(pad = 5) \n",
    "ax.yaxis.set_tick_params(pad = 10) \n",
    "\n",
    "# Add x, y gridlines \n",
    "ax.grid(b = True, color ='grey', \n",
    "\t\tlinestyle ='-.', linewidth = 0.5, \n",
    "\t\talpha = 0.2) \n",
    "\n",
    "# Show top values \n",
    "ax.invert_yaxis() \n",
    "\n",
    "# Add annotation to bars \n",
    "for i in ax.patches: \n",
    "\tplt.text(i.get_width()+0.2, i.get_y()+0.5, \n",
    "\t\t\tstr(round((i.get_width()), 2)), \n",
    "\t\t\tfontsize = 10, fontweight ='bold', \n",
    "\t\t\tcolor ='grey') \n",
    "\n",
    "# Add Plot Title \n",
    "ax.set_title('Countries agreeing with the Gender equality', \n",
    "\t\t\tloc ='left', ) \n",
    "\n",
    "# Add Text watermark \n",
    "fig.text(0.9, 0.15, 'Gender Equality', fontsize = 12, \n",
    "\t\tcolor ='grey', ha ='right', va ='bottom', \n",
    "\t\talpha = 0.7) \n",
    "\n",
    "# Show Plot \n",
    "plt.show() \n",
    "\n"
   ]
  },
  {
   "cell_type": "code",
   "execution_count": 43,
   "metadata": {},
   "outputs": [
    {
     "data": {
      "text/plain": [
       "41.243974163386895"
      ]
     },
     "execution_count": 43,
     "metadata": {},
     "output_type": "execute_result"
    }
   ],
   "source": [
    "sum(Female_data['a3_yes']* Female_data['w'])/ sum(Female_data['w'])"
   ]
  },
  {
   "cell_type": "code",
   "execution_count": 44,
   "metadata": {},
   "outputs": [
    {
     "data": {
      "text/plain": [
       "12.0449296376711"
      ]
     },
     "execution_count": 44,
     "metadata": {},
     "output_type": "execute_result"
    }
   ],
   "source": [
    "sum(Female_data['a5_r']* Female_data['w'])/ sum(Female_data['w'])"
   ]
  },
  {
   "cell_type": "code",
   "execution_count": 45,
   "metadata": {},
   "outputs": [
    {
     "data": {
      "text/plain": [
       "30.545369034905075"
      ]
     },
     "execution_count": 45,
     "metadata": {},
     "output_type": "execute_result"
    }
   ],
   "source": [
    "sum(Female_data['b2_self']* Female_data['w'])/ sum(Female_data['w'])"
   ]
  },
  {
   "cell_type": "code",
   "execution_count": 46,
   "metadata": {},
   "outputs": [
    {
     "data": {
      "text/plain": [
       "40.11202410490867"
      ]
     },
     "execution_count": 46,
     "metadata": {},
     "output_type": "execute_result"
    }
   ],
   "source": [
    "sum(Female_data['b3_fullyindependent']* Female_data['w'])/ sum(Female_data['w'])"
   ]
  },
  {
   "cell_type": "code",
   "execution_count": 47,
   "metadata": {},
   "outputs": [
    {
     "data": {
      "text/plain": [
       "36.42286560361695"
      ]
     },
     "execution_count": 47,
     "metadata": {},
     "output_type": "execute_result"
    }
   ],
   "source": [
    "c = sum(Female_data['d4_computer']* Female_data['w'])/ sum(Female_data['w'])\n",
    "h = sum(Female_data['d4_home']* Female_data['w'])/ sum(Female_data['w'])\n",
    "l = sum(Female_data['d4_land']* Female_data['w'])/ sum(Female_data['w'])\n",
    "p = sum(Female_data['d4_phone']* Female_data['w'])/ sum(Female_data['w'])\n",
    "v = sum(Female_data['d4_vehicle']* Female_data['w'])/ sum(Female_data['w'])\n",
    "(c+h+l+p+v)/5"
   ]
  },
  {
   "cell_type": "code",
   "execution_count": 48,
   "metadata": {},
   "outputs": [
    {
     "data": {
      "text/plain": [
       "(31.899042153804295,\n",
       " 32.13289551752735,\n",
       " 13.547679665443715,\n",
       " 72.86146786086874,\n",
       " 31.67324282044065)"
      ]
     },
     "execution_count": 48,
     "metadata": {},
     "output_type": "execute_result"
    }
   ],
   "source": [
    "c, h, l, p, v"
   ]
  },
  {
   "cell_type": "code",
   "execution_count": 49,
   "metadata": {},
   "outputs": [
    {
     "name": "stderr",
     "output_type": "stream",
     "text": [
      "/home/neil/miniconda/lib/python3.7/site-packages/ipykernel_launcher.py:1: SettingWithCopyWarning: \n",
      "A value is trying to be set on a copy of a slice from a DataFrame.\n",
      "Try using .loc[row_indexer,col_indexer] = value instead\n",
      "\n",
      "See the caveats in the documentation: https://pandas.pydata.org/pandas-docs/stable/user_guide/indexing.html#returning-a-view-versus-a-copy\n",
      "  \"\"\"Entry point for launching an IPython kernel.\n"
     ]
    }
   ],
   "source": [
    "data['owning'] = (data['d4_computer'] +data['d4_home'] +data['d4_land'] +data['d4_phone']+data['d4_vehicle'])/5"
   ]
  },
  {
   "cell_type": "code",
   "execution_count": 50,
   "metadata": {},
   "outputs": [
    {
     "data": {
      "text/plain": [
       "26.7203274462739"
      ]
     },
     "execution_count": 50,
     "metadata": {},
     "output_type": "execute_result"
    }
   ],
   "source": [
    "sum(Female_data['b7_full']* Female_data['w'])/ sum(Female_data['w'])"
   ]
  },
  {
   "cell_type": "code",
   "execution_count": 51,
   "metadata": {},
   "outputs": [
    {
     "data": {
      "text/plain": [
       "40.41122976807222"
      ]
     },
     "execution_count": 51,
     "metadata": {},
     "output_type": "execute_result"
    }
   ],
   "source": [
    "sum(Female_data['b10_yes']* Female_data['w'])/ sum(Female_data['w'])"
   ]
  },
  {
   "cell_type": "code",
   "execution_count": 52,
   "metadata": {},
   "outputs": [
    {
     "data": {
      "text/plain": [
       "41.958973473857704"
      ]
     },
     "execution_count": 52,
     "metadata": {},
     "output_type": "execute_result"
    }
   ],
   "source": [
    "sum(Female_data['c1a_all']* Female_data['w'])/ sum(Female_data['w'])"
   ]
  },
  {
   "cell_type": "code",
   "execution_count": 53,
   "metadata": {},
   "outputs": [
    {
     "data": {
      "text/plain": [
       "58.13909244854564"
      ]
     },
     "execution_count": 53,
     "metadata": {},
     "output_type": "execute_result"
    }
   ],
   "source": [
    "sum(Female_data['c1_care']* Female_data['w'])/ sum(Female_data['w'])"
   ]
  },
  {
   "cell_type": "code",
   "execution_count": 54,
   "metadata": {
    "scrolled": true
   },
   "outputs": [
    {
     "data": {
      "text/plain": [
       "52.030201645401775"
      ]
     },
     "execution_count": 54,
     "metadata": {},
     "output_type": "execute_result"
    }
   ],
   "source": [
    "sum(Female_data['b6_wage']* Female_data['w'])/ sum(Female_data['w'])"
   ]
  },
  {
   "cell_type": "code",
   "execution_count": 55,
   "metadata": {},
   "outputs": [
    {
     "data": {
      "text/plain": [
       "59.88797589509134"
      ]
     },
     "execution_count": 55,
     "metadata": {},
     "output_type": "execute_result"
    }
   ],
   "source": [
    "sum(Female_data['b3_dependent']* Female_data['w'])/ sum(Female_data['w'])"
   ]
  },
  {
   "cell_type": "code",
   "execution_count": 56,
   "metadata": {},
   "outputs": [
    {
     "data": {
      "text/plain": [
       "4.177269785507212"
      ]
     },
     "execution_count": 56,
     "metadata": {},
     "output_type": "execute_result"
    }
   ],
   "source": [
    "sum(Female_data['d1']* Female_data['w'])/ sum(Female_data['w'])"
   ]
  },
  {
   "cell_type": "code",
   "execution_count": 57,
   "metadata": {
    "scrolled": true
   },
   "outputs": [
    {
     "data": {
      "text/plain": [
       "5.261878312579139"
      ]
     },
     "execution_count": 57,
     "metadata": {},
     "output_type": "execute_result"
    }
   ],
   "source": [
    "sum(Female_data['c2c_hours_chores']* Female_data['w'])/ sum(Female_data['w'])"
   ]
  },
  {
   "cell_type": "code",
   "execution_count": 58,
   "metadata": {},
   "outputs": [
    {
     "data": {
      "text/plain": [
       "6.508648532192925"
      ]
     },
     "execution_count": 58,
     "metadata": {},
     "output_type": "execute_result"
    }
   ],
   "source": [
    "\n",
    "sum(Female_data['b1_hours_work']* Female_data['w'])/ sum(Female_data['w'])"
   ]
  },
  {
   "cell_type": "code",
   "execution_count": 59,
   "metadata": {},
   "outputs": [
    {
     "data": {
      "text/plain": [
       "15.971275062543489"
      ]
     },
     "execution_count": 59,
     "metadata": {},
     "output_type": "execute_result"
    }
   ],
   "source": [
    "sum(Female_data['b8']* Female_data['w'])/ sum(Female_data['w'])"
   ]
  },
  {
   "cell_type": "code",
   "execution_count": 60,
   "metadata": {},
   "outputs": [
    {
     "data": {
      "text/plain": [
       "16.97864513421737"
      ]
     },
     "execution_count": 60,
     "metadata": {},
     "output_type": "execute_result"
    }
   ],
   "source": [
    "sum(Female_data['b9']* Female_data['w'])/ sum(Female_data['w'])"
   ]
  },
  {
   "cell_type": "code",
   "execution_count": 61,
   "metadata": {},
   "outputs": [
    {
     "data": {
      "image/png": "[encoded data removed]",
      "text/plain": [
       "<Figure size 1152x648 with 1 Axes>"
      ]
     },
     "metadata": {
      "needs_background": "light"
     },
     "output_type": "display_data"
    }
   ],
   "source": [
    "import pandas as pd \n",
    "from matplotlib import pyplot as plt \n",
    "\n",
    "name = Female_data['Country']\n",
    "price = Female_data['b9']\n",
    "\n",
    "# Figure Size \n",
    "fig, ax = plt.subplots(figsize =(16, 9)) \n",
    "\n",
    "# Horizontal Bar Plot \n",
    "ax.barh(pd.DataFrame({'c':name, 'v':price}).sort_values(by='v', ascending=True)['c'].head(10)\n",
    "        , pd.DataFrame({'c':name, 'v':price}).sort_values(by='v', ascending=True)['v'].head(10)) \n",
    "\n",
    "# Remove axes splines \n",
    "for s in ['top', 'bottom', 'left', 'right']: \n",
    "\tax.spines[s].set_visible(False) \n",
    "\n",
    "# Remove x, y Ticks \n",
    "ax.xaxis.set_ticks_position('none') \n",
    "ax.yaxis.set_ticks_position('none') \n",
    "\n",
    "# Add padding between axes and labels \n",
    "ax.xaxis.set_tick_params(pad = 5) \n",
    "ax.yaxis.set_tick_params(pad = 10) \n",
    "\n",
    "# Add x, y gridlines \n",
    "ax.grid(b = True, color ='grey', \n",
    "\t\tlinestyle ='-.', linewidth = 0.5, \n",
    "\t\talpha = 0.2) \n",
    "\n",
    "# Show top values \n",
    "ax.invert_yaxis() \n",
    "\n",
    "# Add annotation to bars \n",
    "for i in ax.patches: \n",
    "\tplt.text(i.get_width()+0.2, i.get_y()+0.5, \n",
    "\t\t\tstr(round((i.get_width()), 2)), \n",
    "\t\t\tfontsize = 10, fontweight ='bold', \n",
    "\t\t\tcolor ='grey') \n",
    "\n",
    "# Add Plot Title \n",
    "ax.set_title('Women percentages for Decision making for money spending', \n",
    "\t\t\tloc ='left', ) \n",
    "\n",
    "# Add Text watermark \n",
    "fig.text(0.9, 0.15, 'Decision making for money spending', fontsize = 12, \n",
    "\t\tcolor ='grey', ha ='right', va ='bottom', \n",
    "\t\talpha = 0.7) \n",
    "\n",
    "# Show Plot \n",
    "plt.show() \n",
    "\n"
   ]
  },
  {
   "cell_type": "code",
   "execution_count": 62,
   "metadata": {},
   "outputs": [],
   "source": [
    "gender_empowerment = data[data['Gender'] == 'Female'][['Country', \n",
    "                                                       'a3_yes', 'a5_r', 'b2_self', 'b3_fullyindependent', 'owning', 'b7_full', 'c1_care', \n",
    "                                                       'b10_yes', 'c1a_all', 'b6_wage', 'b3_dependent', 'd1']]"
   ]
  },
  {
   "cell_type": "code",
   "execution_count": 63,
   "metadata": {},
   "outputs": [],
   "source": [
    "#TOPSIS\n",
    "import math\n",
    "gender_empowerment['a3_yes'] = 0.1428*gender_empowerment['a3_yes']/math.sqrt(sum(i*i for i in gender_empowerment['a3_yes'].values))\n",
    "gender_empowerment['a5_r'] = 0.1428*gender_empowerment['a5_r']/math.sqrt(sum(i*i for i in gender_empowerment['a5_r'].values))\n",
    "gender_empowerment['b2_self'] = 0.1428*gender_empowerment['b2_self']/math.sqrt(sum(i*i for i in gender_empowerment['b2_self'].values))\n",
    "gender_empowerment['b3_fullyindependent'] = 0.1428*gender_empowerment['b3_fullyindependent']/math.sqrt(sum(i*i for i in gender_empowerment['b3_fullyindependent'].values))\n",
    "gender_empowerment['owning'] = 0.1428*gender_empowerment['owning']/math.sqrt(sum(i*i for i in gender_empowerment['owning'].values))\n",
    "gender_empowerment['b7_full'] = 0.1428*gender_empowerment['b7_full']/math.sqrt(sum(i*i for i in gender_empowerment['b7_full'].values))\n",
    "gender_empowerment['c1_care'] = 0.1428*gender_empowerment['c1_care']/math.sqrt(sum(i*i for i in gender_empowerment['c1_care'].values))\n",
    "\n",
    "ideal_case = [gender_empowerment['a3_yes'].max(), \n",
    "             gender_empowerment['a5_r'].max(), \n",
    "             gender_empowerment['b2_self'].max(), \n",
    "             gender_empowerment['b3_fullyindependent'].max(),\n",
    "             gender_empowerment['owning'].max(),\n",
    "             gender_empowerment['b7_full'].max(),\n",
    "             gender_empowerment['c1_care'].max(),\n",
    "             gender_empowerment['b10_yes'].min(),\n",
    "             gender_empowerment['c1a_all'].min(),\n",
    "              gender_empowerment['b6_wage'].min(),\n",
    "              gender_empowerment['b3_dependent'].min(),\n",
    "              gender_empowerment['d1'].min()\n",
    "            ]\n",
    "worst_case = [gender_empowerment['a3_yes'].min(), \n",
    "             gender_empowerment['a5_r'].min(), \n",
    "             gender_empowerment['b2_self'].min(), \n",
    "             gender_empowerment['b3_fullyindependent'].min(),\n",
    "            gender_empowerment['owning'].min(),\n",
    "            gender_empowerment['b7_full'].min(),\n",
    "            gender_empowerment['c1_care'].min(),\n",
    "              gender_empowerment['b10_yes'].max(),\n",
    "             gender_empowerment['c1a_all'].max(),\n",
    "              gender_empowerment['b6_wage'].max(),\n",
    "              gender_empowerment['b3_dependent'].max(),\n",
    "              gender_empowerment['d1'].max()\n",
    "             ]\n",
    "\n",
    "dist_from_ideal = []\n",
    "for i, value in gender_empowerment.iterrows():\n",
    "    dis = math.sqrt(\n",
    "        (value['a3_yes']-ideal_case[0])**2 + \n",
    "                    (value['a5_r']-ideal_case[1])**2+ \n",
    "                    (value['b2_self']-ideal_case[2])**2+ \n",
    "                    (value['b3_fullyindependent']-ideal_case[3])**2+\n",
    "                   (value['owning']-ideal_case[4])**2+\n",
    "                    (value['b7_full']-ideal_case[5])**2+\n",
    "                    (value['c1_care']-ideal_case[6])**2+\n",
    "                    \n",
    "                   (value['b10_yes']-ideal_case[7])**2+\n",
    "                   (value['c1a_all']-ideal_case[8])**2+\n",
    "                   (value['b6_wage']-ideal_case[9])**2+\n",
    "                   (value['b3_dependent']-ideal_case[10])**2+\n",
    "                   (value['d1']-ideal_case[11])**2\n",
    "    )\n",
    "    dist_from_ideal.append(dis)\n",
    "    \n",
    "dist_from_worst = []\n",
    "for i, value in gender_empowerment.iterrows():\n",
    "    dis = math.sqrt(\n",
    "        (value['a3_yes']-worst_case[0])**2 + \n",
    "        (value['a5_r']-worst_case[1])**2 + \n",
    "                    (value['b2_self']-worst_case[2])**2 + \n",
    "                    (value['b3_fullyindependent']-worst_case[3])**2 +\n",
    "                    (value['owning']-worst_case[4])**2 +\n",
    "                    (value['b7_full']-worst_case[5])**2 +\n",
    "                    (value['c1_care']-worst_case[6])**2 +\n",
    "                   \n",
    "                    (value['b10_yes']-worst_case[7])**2 +\n",
    "                   (value['c1a_all']-worst_case[8])**2 +\n",
    "                   (value['b6_wage']-worst_case[9])**2 +\n",
    "                   (value['b3_dependent']-worst_case[10])**2 +\n",
    "                   (value['d1']-worst_case[11])**2\n",
    "    )\n",
    "    dist_from_worst.append(dis)\n",
    "    \n",
    "gender_empowerment['dist_from_ideal'] = dist_from_ideal\n",
    "gender_empowerment['dist_from_worst'] = dist_from_worst\n",
    "gender_empowerment['performance'] = (gender_empowerment['dist_from_ideal'] + gender_empowerment['dist_from_worst'])/gender_empowerment['dist_from_worst']\n"
   ]
  },
  {
   "cell_type": "code",
   "execution_count": 64,
   "metadata": {},
   "outputs": [],
   "source": [
    "gender_empowerment['rank'] = gender_empowerment['performance'].rank()"
   ]
  },
  {
   "cell_type": "code",
   "execution_count": 65,
   "metadata": {},
   "outputs": [],
   "source": [
    "perf1 = pd.concat([gender_empowerment.sort_values(by='performance', ascending=True).head(5), \n",
    "          gender_empowerment.sort_values(by='performance', ascending=True).tail(5)])"
   ]
  },
  {
   "cell_type": "code",
   "execution_count": 66,
   "metadata": {},
   "outputs": [
    {
     "data": {
      "text/html": [
       "<div>\n",
       "<style scoped>\n",
       "    .dataframe tbody tr th:only-of-type {\n",
       "        vertical-align: middle;\n",
       "    }\n",
       "\n",
       "    .dataframe tbody tr th {\n",
       "        vertical-align: top;\n",
       "    }\n",
       "\n",
       "    .dataframe thead th {\n",
       "        text-align: right;\n",
       "    }\n",
       "</style>\n",
       "<table border=\"1\" class=\"dataframe\">\n",
       "  <thead>\n",
       "    <tr style=\"text-align: right;\">\n",
       "      <th></th>\n",
       "      <th>Country</th>\n",
       "      <th>a3_yes</th>\n",
       "      <th>a5_r</th>\n",
       "      <th>b2_self</th>\n",
       "      <th>b3_fullyindependent</th>\n",
       "      <th>owning</th>\n",
       "      <th>b7_full</th>\n",
       "      <th>c1_care</th>\n",
       "      <th>b10_yes</th>\n",
       "      <th>c1a_all</th>\n",
       "      <th>b6_wage</th>\n",
       "      <th>b3_dependent</th>\n",
       "      <th>d1</th>\n",
       "      <th>dist_from_ideal</th>\n",
       "      <th>dist_from_worst</th>\n",
       "      <th>performance</th>\n",
       "      <th>rank</th>\n",
       "    </tr>\n",
       "  </thead>\n",
       "  <tbody>\n",
       "    <tr>\n",
       "      <th>15</th>\n",
       "      <td>Japan</td>\n",
       "      <td>0.034646</td>\n",
       "      <td>0.042488</td>\n",
       "      <td>0.031455</td>\n",
       "      <td>0.028159</td>\n",
       "      <td>0.032140</td>\n",
       "      <td>0.033063</td>\n",
       "      <td>0.020432</td>\n",
       "      <td>21</td>\n",
       "      <td>29</td>\n",
       "      <td>46</td>\n",
       "      <td>46</td>\n",
       "      <td>15</td>\n",
       "      <td>34.132112</td>\n",
       "      <td>76.367557</td>\n",
       "      <td>1.446945</td>\n",
       "      <td>1.0</td>\n",
       "    </tr>\n",
       "    <tr>\n",
       "      <th>162</th>\n",
       "      <td>Qatar</td>\n",
       "      <td>0.026651</td>\n",
       "      <td>0.028831</td>\n",
       "      <td>0.035949</td>\n",
       "      <td>0.031288</td>\n",
       "      <td>0.028106</td>\n",
       "      <td>0.023805</td>\n",
       "      <td>0.026817</td>\n",
       "      <td>46</td>\n",
       "      <td>37</td>\n",
       "      <td>24</td>\n",
       "      <td>40</td>\n",
       "      <td>6</td>\n",
       "      <td>35.426011</td>\n",
       "      <td>70.668257</td>\n",
       "      <td>1.501300</td>\n",
       "      <td>2.0</td>\n",
       "    </tr>\n",
       "    <tr>\n",
       "      <th>138</th>\n",
       "      <td>Israel</td>\n",
       "      <td>0.027184</td>\n",
       "      <td>0.060697</td>\n",
       "      <td>0.034665</td>\n",
       "      <td>0.029202</td>\n",
       "      <td>0.032531</td>\n",
       "      <td>0.055546</td>\n",
       "      <td>0.018729</td>\n",
       "      <td>32</td>\n",
       "      <td>33</td>\n",
       "      <td>47</td>\n",
       "      <td>44</td>\n",
       "      <td>14</td>\n",
       "      <td>36.986489</td>\n",
       "      <td>67.401833</td>\n",
       "      <td>1.548746</td>\n",
       "      <td>3.0</td>\n",
       "    </tr>\n",
       "    <tr>\n",
       "      <th>33</th>\n",
       "      <td>Taiwan</td>\n",
       "      <td>0.026118</td>\n",
       "      <td>0.027314</td>\n",
       "      <td>0.037875</td>\n",
       "      <td>0.032331</td>\n",
       "      <td>0.032531</td>\n",
       "      <td>0.029095</td>\n",
       "      <td>0.022560</td>\n",
       "      <td>26</td>\n",
       "      <td>44</td>\n",
       "      <td>52</td>\n",
       "      <td>38</td>\n",
       "      <td>7</td>\n",
       "      <td>42.035724</td>\n",
       "      <td>71.902733</td>\n",
       "      <td>1.584619</td>\n",
       "      <td>4.0</td>\n",
       "    </tr>\n",
       "    <tr>\n",
       "      <th>144</th>\n",
       "      <td>Kuwait</td>\n",
       "      <td>0.025585</td>\n",
       "      <td>0.030349</td>\n",
       "      <td>0.037875</td>\n",
       "      <td>0.037024</td>\n",
       "      <td>0.025894</td>\n",
       "      <td>0.020499</td>\n",
       "      <td>0.026391</td>\n",
       "      <td>58</td>\n",
       "      <td>45</td>\n",
       "      <td>36</td>\n",
       "      <td>29</td>\n",
       "      <td>4</td>\n",
       "      <td>49.213844</td>\n",
       "      <td>65.199715</td>\n",
       "      <td>1.754817</td>\n",
       "      <td>5.0</td>\n",
       "    </tr>\n",
       "    <tr>\n",
       "      <th>153</th>\n",
       "      <td>Morocco</td>\n",
       "      <td>0.014392</td>\n",
       "      <td>0.007587</td>\n",
       "      <td>0.008987</td>\n",
       "      <td>0.013037</td>\n",
       "      <td>0.016656</td>\n",
       "      <td>0.009258</td>\n",
       "      <td>0.021709</td>\n",
       "      <td>50</td>\n",
       "      <td>33</td>\n",
       "      <td>51</td>\n",
       "      <td>75</td>\n",
       "      <td>3</td>\n",
       "      <td>63.356195</td>\n",
       "      <td>42.883564</td>\n",
       "      <td>2.477400</td>\n",
       "      <td>30.0</td>\n",
       "    </tr>\n",
       "    <tr>\n",
       "      <th>141</th>\n",
       "      <td>Jordan</td>\n",
       "      <td>0.013859</td>\n",
       "      <td>0.010622</td>\n",
       "      <td>0.008987</td>\n",
       "      <td>0.013037</td>\n",
       "      <td>0.022381</td>\n",
       "      <td>0.013225</td>\n",
       "      <td>0.023412</td>\n",
       "      <td>53</td>\n",
       "      <td>30</td>\n",
       "      <td>51</td>\n",
       "      <td>75</td>\n",
       "      <td>2</td>\n",
       "      <td>63.992238</td>\n",
       "      <td>42.755119</td>\n",
       "      <td>2.496715</td>\n",
       "      <td>31.0</td>\n",
       "    </tr>\n",
       "    <tr>\n",
       "      <th>147</th>\n",
       "      <td>Lebanon</td>\n",
       "      <td>0.019189</td>\n",
       "      <td>0.016692</td>\n",
       "      <td>0.020542</td>\n",
       "      <td>0.019816</td>\n",
       "      <td>0.029928</td>\n",
       "      <td>0.023144</td>\n",
       "      <td>0.022135</td>\n",
       "      <td>62</td>\n",
       "      <td>29</td>\n",
       "      <td>58</td>\n",
       "      <td>62</td>\n",
       "      <td>3</td>\n",
       "      <td>64.233979</td>\n",
       "      <td>39.610618</td>\n",
       "      <td>2.621635</td>\n",
       "      <td>32.0</td>\n",
       "    </tr>\n",
       "    <tr>\n",
       "      <th>126</th>\n",
       "      <td>Algeria</td>\n",
       "      <td>0.014392</td>\n",
       "      <td>0.006070</td>\n",
       "      <td>0.009629</td>\n",
       "      <td>0.013037</td>\n",
       "      <td>0.019909</td>\n",
       "      <td>0.011241</td>\n",
       "      <td>0.021283</td>\n",
       "      <td>48</td>\n",
       "      <td>41</td>\n",
       "      <td>54</td>\n",
       "      <td>75</td>\n",
       "      <td>1</td>\n",
       "      <td>66.490655</td>\n",
       "      <td>40.620193</td>\n",
       "      <td>2.636887</td>\n",
       "      <td>33.0</td>\n",
       "    </tr>\n",
       "    <tr>\n",
       "      <th>30</th>\n",
       "      <td>Philippines</td>\n",
       "      <td>0.025585</td>\n",
       "      <td>0.013657</td>\n",
       "      <td>0.020542</td>\n",
       "      <td>0.021380</td>\n",
       "      <td>0.020299</td>\n",
       "      <td>0.011241</td>\n",
       "      <td>0.025540</td>\n",
       "      <td>81</td>\n",
       "      <td>52</td>\n",
       "      <td>65</td>\n",
       "      <td>59</td>\n",
       "      <td>2</td>\n",
       "      <td>86.896520</td>\n",
       "      <td>24.899813</td>\n",
       "      <td>4.489846</td>\n",
       "      <td>34.0</td>\n",
       "    </tr>\n",
       "  </tbody>\n",
       "</table>\n",
       "</div>"
      ],
      "text/plain": [
       "         Country    a3_yes      a5_r   b2_self  b3_fullyindependent    owning  \\\n",
       "15         Japan  0.034646  0.042488  0.031455             0.028159  0.032140   \n",
       "162        Qatar  0.026651  0.028831  0.035949             0.031288  0.028106   \n",
       "138       Israel  0.027184  0.060697  0.034665             0.029202  0.032531   \n",
       "33        Taiwan  0.026118  0.027314  0.037875             0.032331  0.032531   \n",
       "144       Kuwait  0.025585  0.030349  0.037875             0.037024  0.025894   \n",
       "153      Morocco  0.014392  0.007587  0.008987             0.013037  0.016656   \n",
       "141       Jordan  0.013859  0.010622  0.008987             0.013037  0.022381   \n",
       "147      Lebanon  0.019189  0.016692  0.020542             0.019816  0.029928   \n",
       "126      Algeria  0.014392  0.006070  0.009629             0.013037  0.019909   \n",
       "30   Philippines  0.025585  0.013657  0.020542             0.021380  0.020299   \n",
       "\n",
       "      b7_full   c1_care  b10_yes  c1a_all  b6_wage  b3_dependent  d1  \\\n",
       "15   0.033063  0.020432       21       29       46            46  15   \n",
       "162  0.023805  0.026817       46       37       24            40   6   \n",
       "138  0.055546  0.018729       32       33       47            44  14   \n",
       "33   0.029095  0.022560       26       44       52            38   7   \n",
       "144  0.020499  0.026391       58       45       36            29   4   \n",
       "153  0.009258  0.021709       50       33       51            75   3   \n",
       "141  0.013225  0.023412       53       30       51            75   2   \n",
       "147  0.023144  0.022135       62       29       58            62   3   \n",
       "126  0.011241  0.021283       48       41       54            75   1   \n",
       "30   0.011241  0.025540       81       52       65            59   2   \n",
       "\n",
       "     dist_from_ideal  dist_from_worst  performance  rank  \n",
       "15         34.132112        76.367557     1.446945   1.0  \n",
       "162        35.426011        70.668257     1.501300   2.0  \n",
       "138        36.986489        67.401833     1.548746   3.0  \n",
       "33         42.035724        71.902733     1.584619   4.0  \n",
       "144        49.213844        65.199715     1.754817   5.0  \n",
       "153        63.356195        42.883564     2.477400  30.0  \n",
       "141        63.992238        42.755119     2.496715  31.0  \n",
       "147        64.233979        39.610618     2.621635  32.0  \n",
       "126        66.490655        40.620193     2.636887  33.0  \n",
       "30         86.896520        24.899813     4.489846  34.0  "
      ]
     },
     "execution_count": 66,
     "metadata": {},
     "output_type": "execute_result"
    }
   ],
   "source": [
    "perf1"
   ]
  },
  {
   "cell_type": "code",
   "execution_count": 67,
   "metadata": {
    "scrolled": false
   },
   "outputs": [
    {
     "data": {
      "image/png": "[encoded data removed]",
      "text/plain": [
       "<Figure size 1152x648 with 1 Axes>"
      ]
     },
     "metadata": {
      "needs_background": "light"
     },
     "output_type": "display_data"
    }
   ],
   "source": [
    "import pandas as pd \n",
    "from matplotlib import pyplot as plt \n",
    "\n",
    "name = perf1['Country']\n",
    "price = perf1['rank']\n",
    "\n",
    "# Figure Size \n",
    "fig, ax = plt.subplots(figsize =(16, 9)) \n",
    "\n",
    "# Horizontal Bar Plot \n",
    "ax.barh(name, price) \n",
    "\n",
    "# Remove axes splines \n",
    "for s in ['top', 'bottom', 'left', 'right']: \n",
    "\tax.spines[s].set_visible(False) \n",
    "\n",
    "# Remove x, y Ticks \n",
    "ax.xaxis.set_ticks_position('none') \n",
    "ax.yaxis.set_ticks_position('none') \n",
    "\n",
    "# Add padding between axes and labels \n",
    "ax.xaxis.set_tick_params(pad = 5) \n",
    "ax.yaxis.set_tick_params(pad = 10) \n",
    "\n",
    "# Add x, y gridlines \n",
    "ax.grid(b = True, color ='grey', \n",
    "\t\tlinestyle ='-.', linewidth = 0.5, \n",
    "\t\talpha = 0.2) \n",
    "\n",
    "# Show top values \n",
    "ax.invert_yaxis() \n",
    "\n",
    "# Add annotation to bars \n",
    "for i in ax.patches: \n",
    "\tplt.text(i.get_width()+0.2, i.get_y()+0.5, \n",
    "\t\t\tstr(round((i.get_width()), 2)), \n",
    "\t\t\tfontsize = 10, fontweight ='bold', \n",
    "\t\t\tcolor ='grey') \n",
    "\n",
    "# Add Plot Title \n",
    "ax.set_title('Countries promoting gender empowerment', \n",
    "\t\t\tloc ='left', ) \n",
    "\n",
    "# Add Text watermark \n",
    "fig.text(0.9, 0.15, 'Gender Empowerment', fontsize = 12, \n",
    "\t\tcolor ='grey', ha ='right', va ='bottom', \n",
    "\t\talpha = 0.7) \n",
    "\n",
    "# Show Plot \n",
    "plt.show() \n",
    "\n"
   ]
  },
  {
   "cell_type": "code",
   "execution_count": 68,
   "metadata": {},
   "outputs": [
    {
     "data": {
      "image/png": "[encoded data removed]",
      "text/plain": [
       "<Figure size 1440x720 with 1 Axes>"
      ]
     },
     "metadata": {
      "needs_background": "light"
     },
     "output_type": "display_data"
    }
   ],
   "source": [
    "q1_data = pd.concat([combined_data.sort_values(by='c1d_increase', ascending=False).head(5), \n",
    "           combined_data.sort_values(by='c1d_increase', ascending=False).tail(5)])\n",
    "val = []\n",
    "for a in q1_data[['c1d_increase', 'c1d_same', 'c1d_decrease']].values:\n",
    "    for i in a:\n",
    "        val.append(i)\n",
    "\n",
    "df1= pd.DataFrame({'Range':['Increase','Same', 'Decrease']*10,\n",
    "        'Value':val})\n",
    "\n",
    "df_value = df1.assign(idx=df1.groupby('Range').cumcount()).pivot(index='idx', columns='Range', values='Value')\n",
    "# set colors\n",
    "colors = ['lightgreen', 'red', 'orange']\n",
    "# plot the price\n",
    "ax = df_value.plot.bar(stacked=True, figsize=(20, 10), color=colors, ec='w')\n",
    "# label the x-axis\n",
    "plt.xticks(ticks=range(10), labels=q1_data.Country.values, rotation=0)\n",
    "# x-axis title\n",
    "plt.xlabel('Countries')\n",
    "# position the legend\n",
    "plt.legend(bbox_to_anchor=(1.05, 1), loc='upper left')\n",
    "col_idx = 0\n",
    "row_idx = 0\n",
    "# iterate through each bar patch from ax\n",
    "for i, p in enumerate(ax.patches, 1):\n",
    "    left, bottom, width, height = p.get_bbox().bounds\n",
    "    v = df_value.iloc[row_idx, col_idx]\n",
    "    if width > 0:\n",
    "        ax.annotate(f'{v:0.0f}', xy=(left+width/2, bottom+height/2), ha='center', va='center')\n",
    "    row_idx += 1\n",
    "    if i%10 == 0:  \n",
    "        col_idx += 1\n",
    "        row_idx = 0\n",
    "plt.savefig('/home/neil/LEAD_images/covid1.png')"
   ]
  },
  {
   "cell_type": "code",
   "execution_count": 69,
   "metadata": {},
   "outputs": [],
   "source": [
    "no_medical_care = sum(combined_data['d6_health']* combined_data['w'])/ sum(combined_data['w'])"
   ]
  },
  {
   "cell_type": "code",
   "execution_count": 70,
   "metadata": {},
   "outputs": [],
   "source": [
    "isolation = sum(combined_data['d6_isolate']* combined_data['w'])/ sum(combined_data['w'])"
   ]
  },
  {
   "cell_type": "code",
   "execution_count": 71,
   "metadata": {},
   "outputs": [],
   "source": [
    "lost_job = sum(combined_data['d6_job']* combined_data['w'])/ sum(combined_data['w'])"
   ]
  },
  {
   "cell_type": "code",
   "execution_count": 72,
   "metadata": {},
   "outputs": [],
   "source": [
    "no_medical_supply_access = sum(combined_data['d6_medical']* combined_data['w'])/ sum(combined_data['w'])"
   ]
  },
  {
   "cell_type": "code",
   "execution_count": 73,
   "metadata": {},
   "outputs": [],
   "source": [
    "migration_issues = sum(combined_data['d6_migrate']* combined_data['w'])/ sum(combined_data['w'])"
   ]
  },
  {
   "cell_type": "code",
   "execution_count": 74,
   "metadata": {},
   "outputs": [],
   "source": [
    "no_personal_care = sum(combined_data['d6_personal']* combined_data['w'])/ sum(combined_data['w'])"
   ]
  },
  {
   "cell_type": "code",
   "execution_count": 75,
   "metadata": {},
   "outputs": [],
   "source": [
    "school_cancelled = sum(combined_data['d6_school']* combined_data['w'])/ sum(combined_data['w'])"
   ]
  },
  {
   "cell_type": "code",
   "execution_count": 76,
   "metadata": {},
   "outputs": [],
   "source": [
    "no_transport_access = sum(combined_data['d6_transport']* combined_data['w'])/ sum(combined_data['w'])"
   ]
  },
  {
   "cell_type": "code",
   "execution_count": 77,
   "metadata": {},
   "outputs": [],
   "source": [
    "import pandas as pd \n",
    "from matplotlib import pyplot as plt \n",
    "\n",
    "name = ['no_medical_care', 'isolation', 'lost_job', 'no_medical_supply_access', 'migration_issues',\n",
    "        'no_personal_care', 'school_cancelled', 'no_transport_access']\n",
    "price = [no_medical_care, isolation, lost_job, no_medical_supply_access, migration_issues, no_personal_care, \n",
    "        school_cancelled, no_transport_access]\n",
    "f =  pd.DataFrame({'issue': name, \n",
    "                 'val': price}).sort_values(by='val', ascending=False)\n"
   ]
  },
  {
   "cell_type": "code",
   "execution_count": 78,
   "metadata": {},
   "outputs": [
    {
     "data": {
      "image/png": "[encoded data removed]",
      "text/plain": [
       "<Figure size 1152x648 with 1 Axes>"
      ]
     },
     "metadata": {
      "needs_background": "light"
     },
     "output_type": "display_data"
    }
   ],
   "source": [
    "name = f['issue'].values\n",
    "price = f['val'].values\n",
    "# Figure Size \n",
    "fig, ax = plt.subplots(figsize =(16, 9)) \n",
    "\n",
    "# Horizontal Bar Plot \n",
    "ax.barh(name, price) \n",
    "\n",
    "# Remove axes splines \n",
    "for s in ['top', 'bottom', 'left', 'right']: \n",
    "\tax.spines[s].set_visible(False) \n",
    "\n",
    "# Remove x, y Ticks \n",
    "ax.xaxis.set_ticks_position('none') \n",
    "ax.yaxis.set_ticks_position('none') \n",
    "\n",
    "# Add padding between axes and labels \n",
    "ax.xaxis.set_tick_params(pad = 5) \n",
    "ax.yaxis.set_tick_params(pad = 10) \n",
    "\n",
    "# Add x, y gridlines \n",
    "ax.grid(b = True, color ='grey', \n",
    "\t\tlinestyle ='-.', linewidth = 0.5, \n",
    "\t\talpha = 0.2) \n",
    "\n",
    "# Show top values \n",
    "ax.invert_yaxis() \n",
    "\n",
    "# Add annotation to bars \n",
    "for i in ax.patches: \n",
    "\tplt.text(i.get_width()+0.2, i.get_y()+0.5, \n",
    "\t\t\tstr(round((i.get_width()), 2)), \n",
    "\t\t\tfontsize = 10, fontweight ='bold', \n",
    "\t\t\tcolor ='grey') \n",
    "\n",
    "# Add Plot Title \n",
    "ax.set_title('Issues faced during COVID19', \n",
    "\t\t\tloc ='left', ) \n",
    "\n",
    "# Add Text watermark \n",
    "fig.text(0.9, 0.15, 'Issues', fontsize = 12, \n",
    "\t\tcolor ='grey', ha ='right', va ='bottom', \n",
    "\t\talpha = 0.7) \n",
    "\n",
    "# Show Plot \n",
    "plt.show() \n",
    "\n"
   ]
  },
  {
   "cell_type": "code",
   "execution_count": 79,
   "metadata": {},
   "outputs": [],
   "source": [
    "staying_home_bored = sum(combined_data['d7_bored']* combined_data['w'])/ sum(combined_data['w'])\n",
    "limited_food = sum(combined_data['d7_food']* combined_data['w'])/ sum(combined_data['w'])\n",
    "access_to_health = sum(combined_data['d7_health']* combined_data['w'])/ sum(combined_data['w'])\n",
    "no_info_about_covid = sum(combined_data['d7_info']* combined_data['w'])/ sum(combined_data['w'])\n",
    "loan_issue = sum(combined_data['d7_loan']* combined_data['w'])/ sum(combined_data['w'])\n",
    "money_issue = sum(combined_data['d7_money']* combined_data['w'])/ sum(combined_data['w'])\n",
    "stuck = sum(combined_data['d7_stuck']* combined_data['w'])/ sum(combined_data['w'])\n",
    "future_work = sum(combined_data['d7_work']* combined_data['w'])/ sum(combined_data['w'])\n",
    "\n",
    "name = ['staying_home_bored', 'limited_food', 'access_to_health', 'no_info_about_covid', 'loan_issue',\n",
    "        'money_issue', 'stuck', 'future_work']\n",
    "price = [staying_home_bored, limited_food, access_to_health, no_info_about_covid, loan_issue, money_issue, \n",
    "        stuck, future_work]\n",
    "f =  pd.DataFrame({'issue': name, \n",
    "                 'val': price}).sort_values(by='val', ascending=False)\n",
    "\n",
    "\n",
    "\n",
    "\n",
    "\n",
    "\n"
   ]
  },
  {
   "cell_type": "code",
   "execution_count": 80,
   "metadata": {},
   "outputs": [
    {
     "data": {
      "image/png": "[encoded data removed]",
      "text/plain": [
       "<Figure size 1152x648 with 1 Axes>"
      ]
     },
     "metadata": {
      "needs_background": "light"
     },
     "output_type": "display_data"
    }
   ],
   "source": [
    "name = f['issue'].values\n",
    "price = f['val'].values\n",
    "# Figure Size \n",
    "fig, ax = plt.subplots(figsize =(16, 9)) \n",
    "\n",
    "# Horizontal Bar Plot \n",
    "ax.barh(name, price) \n",
    "\n",
    "# Remove axes splines \n",
    "for s in ['top', 'bottom', 'left', 'right']: \n",
    "\tax.spines[s].set_visible(False) \n",
    "\n",
    "# Remove x, y Ticks \n",
    "ax.xaxis.set_ticks_position('none') \n",
    "ax.yaxis.set_ticks_position('none') \n",
    "\n",
    "# Add padding between axes and labels \n",
    "ax.xaxis.set_tick_params(pad = 5) \n",
    "ax.yaxis.set_tick_params(pad = 10) \n",
    "\n",
    "# Add x, y gridlines \n",
    "ax.grid(b = True, color ='grey', \n",
    "\t\tlinestyle ='-.', linewidth = 0.5, \n",
    "\t\talpha = 0.2) \n",
    "\n",
    "# Show top values \n",
    "ax.invert_yaxis() \n",
    "\n",
    "# Add annotation to bars \n",
    "for i in ax.patches: \n",
    "\tplt.text(i.get_width()+0.2, i.get_y()+0.5, \n",
    "\t\t\tstr(round((i.get_width()), 2)), \n",
    "\t\t\tfontsize = 10, fontweight ='bold', \n",
    "\t\t\tcolor ='grey') \n",
    "\n",
    "# Add Plot Title \n",
    "ax.set_title('Concenrns during COVID19', \n",
    "\t\t\tloc ='left', ) \n",
    "\n",
    "# Add Text watermark \n",
    "fig.text(0.9, 0.15, 'Concenrns', fontsize = 12, \n",
    "\t\tcolor ='grey', ha ='right', va ='bottom', \n",
    "\t\talpha = 0.7) \n",
    "\n",
    "# Show Plot \n",
    "plt.show() \n",
    "\n"
   ]
  },
  {
   "cell_type": "code",
   "execution_count": 81,
   "metadata": {},
   "outputs": [
    {
     "data": {
      "text/html": [
       "        <script type=\"text/javascript\">\n",
       "        window.PlotlyConfig = {MathJaxConfig: 'local'};\n",
       "        if (window.MathJax) {MathJax.Hub.Config({SVG: {font: \"STIX-Web\"}});}\n",
       "        if (typeof require !== 'undefined') {\n",
       "        require.undef(\"plotly\");\n",
       "        requirejs.config({\n",
       "            paths: {\n",
       "                'plotly': ['https://cdn.plot.ly/plotly-latest.min']\n",
       "            }\n",
       "        });\n",
       "        require(['plotly'], function(Plotly) {\n",
       "            window._Plotly = Plotly;\n",
       "        });\n",
       "        }\n",
       "        </script>\n",
       "        "
      ]
     },
     "metadata": {},
     "output_type": "display_data"
    }
   ],
   "source": [
    "import plotly.graph_objs as go \n",
    "from plotly.offline import init_notebook_mode,iplot,plot\n",
    "init_notebook_mode(connected=True)\n",
    "import pandas as pd"
   ]
  },
  {
   "cell_type": "code",
   "execution_count": 82,
   "metadata": {},
   "outputs": [],
   "source": [
    "data = dict(\n",
    "        type = 'choropleth',\n",
    "        colorscale = 'Viridis',\n",
    "        locations = gender_empowerment['Country'],\n",
    "        locationmode = \"country names\",\n",
    "        z = gender_empowerment['rank'],\n",
    "        text = gender_empowerment['Country'],\n",
    "        colorbar = {'title' : 'Low rank represents empowerment'},\n",
    "      )"
   ]
  },
  {
   "cell_type": "code",
   "execution_count": 83,
   "metadata": {},
   "outputs": [],
   "source": [
    "layout = dict(geo = dict(projection = {'type':'natural earth'}))"
   ]
  },
  {
   "cell_type": "code",
   "execution_count": 84,
   "metadata": {},
   "outputs": [
    {
     "data": {
      "application/vnd.plotly.v1+json": {
       "config": {
        "linkText": "Export to plot.ly",
        "plotlyServerURL": "https://plot.ly",
        "showLink": false
       },
       "data": [
        {
         "colorbar": {
          "title": {
           "text": "Low rank represents empowerment"
          }
         },
         "colorscale": [
          [
           0,
           "#440154"
          ],
          [
           0.1111111111111111,
           "#482878"
          ],
          [
           0.2222222222222222,
           "#3e4989"
          ],
          [
           0.3333333333333333,
           "#31688e"
          ],
          [
           0.4444444444444444,
           "#26828e"
          ],
          [
           0.5555555555555556,
           "#1f9e89"
          ],
          [
           0.6666666666666666,
           "#35b779"
          ],
          [
           0.7777777777777778,
           "#6ece58"
          ],
          [
           0.8888888888888888,
           "#b5de2b"
          ],
          [
           1,
           "#fde725"
          ]
         ],
         "locationmode": "country names",
         "locations": [
          "Cambodia",
          "Indonesia",
          "Japan",
          "Laos",
          "Malaysia",
          "Mongolia",
          "Myanmar",
          "Philippines",
          "Taiwan",
          "Thailand",
          "Afghanistan",
          "Bangladesh",
          "Bhutan",
          "India",
          "Nepal",
          "Pakistan",
          "Algeria",
          "Bahrain",
          "Egypt",
          "Iraq",
          "Israel",
          "Jordan",
          "Kuwait",
          "Lebanon",
          "Libya",
          "Morocco",
          "Oman",
          "Palestine",
          "Qatar",
          "Saudi Arabia",
          "Tunisia",
          "United Arab Emirates",
          "Kazakhstan",
          "Uzbekistan"
         ],
         "text": [
          "Cambodia",
          "Indonesia",
          "Japan",
          "Laos",
          "Malaysia",
          "Mongolia",
          "Myanmar",
          "Philippines",
          "Taiwan",
          "Thailand",
          "Afghanistan",
          "Bangladesh",
          "Bhutan",
          "India",
          "Nepal",
          "Pakistan",
          "Algeria",
          "Bahrain",
          "Egypt",
          "Iraq",
          "Israel",
          "Jordan",
          "Kuwait",
          "Lebanon",
          "Libya",
          "Morocco",
          "Oman",
          "Palestine",
          "Qatar",
          "Saudi Arabia",
          "Tunisia",
          "United Arab Emirates",
          "Kazakhstan",
          "Uzbekistan"
         ],
         "type": "choropleth",
         "z": [
          10,
          21,
          1,
          29,
          15,
          8,
          6,
          34,
          4,
          12,
          24,
          26,
          9,
          22,
          18,
          27,
          33,
          19,
          7,
          25,
          3,
          31,
          5,
          32,
          23,
          30,
          17,
          28,
          2,
          14,
          13,
          20,
          11,
          16
         ]
        }
       ],
       "layout": {
        "geo": {
         "projection": {
          "type": "natural earth"
         }
        },
        "template": {
         "data": {
          "bar": [
           {
            "error_x": {
             "color": "#2a3f5f"
            },
            "error_y": {
             "color": "#2a3f5f"
            },
            "marker": {
             "line": {
              "color": "#E5ECF6",
              "width": 0.5
             }
            },
            "type": "bar"
           }
          ],
          "barpolar": [
           {
            "marker": {
             "line": {
              "color": "#E5ECF6",
              "width": 0.5
             }
            },
            "type": "barpolar"
           }
          ],
          "carpet": [
           {
            "aaxis": {
             "endlinecolor": "#2a3f5f",
             "gridcolor": "white",
             "linecolor": "white",
             "minorgridcolor": "white",
             "startlinecolor": "#2a3f5f"
            },
            "baxis": {
             "endlinecolor": "#2a3f5f",
             "gridcolor": "white",
             "linecolor": "white",
             "minorgridcolor": "white",
             "startlinecolor": "#2a3f5f"
            },
            "type": "carpet"
           }
          ],
          "choropleth": [
           {
            "colorbar": {
             "outlinewidth": 0,
             "ticks": ""
            },
            "type": "choropleth"
           }
          ],
          "contour": [
           {
            "colorbar": {
             "outlinewidth": 0,
             "ticks": ""
            },
            "colorscale": [
             [
              0,
              "#0d0887"
             ],
             [
              0.1111111111111111,
              "#46039f"
             ],
             [
              0.2222222222222222,
              "#7201a8"
             ],
             [
              0.3333333333333333,
              "#9c179e"
             ],
             [
              0.4444444444444444,
              "#bd3786"
             ],
             [
              0.5555555555555556,
              "#d8576b"
             ],
             [
              0.6666666666666666,
              "#ed7953"
             ],
             [
              0.7777777777777778,
              "#fb9f3a"
             ],
             [
              0.8888888888888888,
              "#fdca26"
             ],
             [
              1,
              "#f0f921"
             ]
            ],
            "type": "contour"
           }
          ],
          "contourcarpet": [
           {
            "colorbar": {
             "outlinewidth": 0,
             "ticks": ""
            },
            "type": "contourcarpet"
           }
          ],
          "heatmap": [
           {
            "colorbar": {
             "outlinewidth": 0,
             "ticks": ""
            },
            "colorscale": [
             [
              0,
              "#0d0887"
             ],
             [
              0.1111111111111111,
              "#46039f"
             ],
             [
              0.2222222222222222,
              "#7201a8"
             ],
             [
              0.3333333333333333,
              "#9c179e"
             ],
             [
              0.4444444444444444,
              "#bd3786"
             ],
             [
              0.5555555555555556,
              "#d8576b"
             ],
             [
              0.6666666666666666,
              "#ed7953"
             ],
             [
              0.7777777777777778,
              "#fb9f3a"
             ],
             [
              0.8888888888888888,
              "#fdca26"
             ],
             [
              1,
              "#f0f921"
             ]
            ],
            "type": "heatmap"
           }
          ],
          "heatmapgl": [
           {
            "colorbar": {
             "outlinewidth": 0,
             "ticks": ""
            },
            "colorscale": [
             [
              0,
              "#0d0887"
             ],
             [
              0.1111111111111111,
              "#46039f"
             ],
             [
              0.2222222222222222,
              "#7201a8"
             ],
             [
              0.3333333333333333,
              "#9c179e"
             ],
             [
              0.4444444444444444,
              "#bd3786"
             ],
             [
              0.5555555555555556,
              "#d8576b"
             ],
             [
              0.6666666666666666,
              "#ed7953"
             ],
             [
              0.7777777777777778,
              "#fb9f3a"
             ],
             [
              0.8888888888888888,
              "#fdca26"
             ],
             [
              1,
              "#f0f921"
             ]
            ],
            "type": "heatmapgl"
           }
          ],
          "histogram": [
           {
            "marker": {
             "colorbar": {
              "outlinewidth": 0,
              "ticks": ""
             }
            },
            "type": "histogram"
           }
          ],
          "histogram2d": [
           {
            "colorbar": {
             "outlinewidth": 0,
             "ticks": ""
            },
            "colorscale": [
             [
              0,
              "#0d0887"
             ],
             [
              0.1111111111111111,
              "#46039f"
             ],
             [
              0.2222222222222222,
              "#7201a8"
             ],
             [
              0.3333333333333333,
              "#9c179e"
             ],
             [
              0.4444444444444444,
              "#bd3786"
             ],
             [
              0.5555555555555556,
              "#d8576b"
             ],
             [
              0.6666666666666666,
              "#ed7953"
             ],
             [
              0.7777777777777778,
              "#fb9f3a"
             ],
             [
              0.8888888888888888,
              "#fdca26"
             ],
             [
              1,
              "#f0f921"
             ]
            ],
            "type": "histogram2d"
           }
          ],
          "histogram2dcontour": [
           {
            "colorbar": {
             "outlinewidth": 0,
             "ticks": ""
            },
            "colorscale": [
             [
              0,
              "#0d0887"
             ],
             [
              0.1111111111111111,
              "#46039f"
             ],
             [
              0.2222222222222222,
              "#7201a8"
             ],
             [
              0.3333333333333333,
              "#9c179e"
             ],
             [
              0.4444444444444444,
              "#bd3786"
             ],
             [
              0.5555555555555556,
              "#d8576b"
             ],
             [
              0.6666666666666666,
              "#ed7953"
             ],
             [
              0.7777777777777778,
              "#fb9f3a"
             ],
             [
              0.8888888888888888,
              "#fdca26"
             ],
             [
              1,
              "#f0f921"
             ]
            ],
            "type": "histogram2dcontour"
           }
          ],
          "mesh3d": [
           {
            "colorbar": {
             "outlinewidth": 0,
             "ticks": ""
            },
            "type": "mesh3d"
           }
          ],
          "parcoords": [
           {
            "line": {
             "colorbar": {
              "outlinewidth": 0,
              "ticks": ""
             }
            },
            "type": "parcoords"
           }
          ],
          "pie": [
           {
            "automargin": true,
            "type": "pie"
           }
          ],
          "scatter": [
           {
            "marker": {
             "colorbar": {
              "outlinewidth": 0,
              "ticks": ""
             }
            },
            "type": "scatter"
           }
          ],
          "scatter3d": [
           {
            "line": {
             "colorbar": {
              "outlinewidth": 0,
              "ticks": ""
             }
            },
            "marker": {
             "colorbar": {
              "outlinewidth": 0,
              "ticks": ""
             }
            },
            "type": "scatter3d"
           }
          ],
          "scattercarpet": [
           {
            "marker": {
             "colorbar": {
              "outlinewidth": 0,
              "ticks": ""
             }
            },
            "type": "scattercarpet"
           }
          ],
          "scattergeo": [
           {
            "marker": {
             "colorbar": {
              "outlinewidth": 0,
              "ticks": ""
             }
            },
            "type": "scattergeo"
           }
          ],
          "scattergl": [
           {
            "marker": {
             "colorbar": {
              "outlinewidth": 0,
              "ticks": ""
             }
            },
            "type": "scattergl"
           }
          ],
          "scattermapbox": [
           {
            "marker": {
             "colorbar": {
              "outlinewidth": 0,
              "ticks": ""
             }
            },
            "type": "scattermapbox"
           }
          ],
          "scatterpolar": [
           {
            "marker": {
             "colorbar": {
              "outlinewidth": 0,
              "ticks": ""
             }
            },
            "type": "scatterpolar"
           }
          ],
          "scatterpolargl": [
           {
            "marker": {
             "colorbar": {
              "outlinewidth": 0,
              "ticks": ""
             }
            },
            "type": "scatterpolargl"
           }
          ],
          "scatterternary": [
           {
            "marker": {
             "colorbar": {
              "outlinewidth": 0,
              "ticks": ""
             }
            },
            "type": "scatterternary"
           }
          ],
          "surface": [
           {
            "colorbar": {
             "outlinewidth": 0,
             "ticks": ""
            },
            "colorscale": [
             [
              0,
              "#0d0887"
             ],
             [
              0.1111111111111111,
              "#46039f"
             ],
             [
              0.2222222222222222,
              "#7201a8"
             ],
             [
              0.3333333333333333,
              "#9c179e"
             ],
             [
              0.4444444444444444,
              "#bd3786"
             ],
             [
              0.5555555555555556,
              "#d8576b"
             ],
             [
              0.6666666666666666,
              "#ed7953"
             ],
             [
              0.7777777777777778,
              "#fb9f3a"
             ],
             [
              0.8888888888888888,
              "#fdca26"
             ],
             [
              1,
              "#f0f921"
             ]
            ],
            "type": "surface"
           }
          ],
          "table": [
           {
            "cells": {
             "fill": {
              "color": "#EBF0F8"
             },
             "line": {
              "color": "white"
             }
            },
            "header": {
             "fill": {
              "color": "#C8D4E3"
             },
             "line": {
              "color": "white"
             }
            },
            "type": "table"
           }
          ]
         },
         "layout": {
          "annotationdefaults": {
           "arrowcolor": "#2a3f5f",
           "arrowhead": 0,
           "arrowwidth": 1
          },
          "autotypenumbers": "strict",
          "coloraxis": {
           "colorbar": {
            "outlinewidth": 0,
            "ticks": ""
           }
          },
          "colorscale": {
           "diverging": [
            [
             0,
             "#8e0152"
            ],
            [
             0.1,
             "#c51b7d"
            ],
            [
             0.2,
             "#de77ae"
            ],
            [
             0.3,
             "#f1b6da"
            ],
            [
             0.4,
             "#fde0ef"
            ],
            [
             0.5,
             "#f7f7f7"
            ],
            [
             0.6,
             "#e6f5d0"
            ],
            [
             0.7,
             "#b8e186"
            ],
            [
             0.8,
             "#7fbc41"
            ],
            [
             0.9,
             "#4d9221"
            ],
            [
             1,
             "#276419"
            ]
           ],
           "sequential": [
            [
             0,
             "#0d0887"
            ],
            [
             0.1111111111111111,
             "#46039f"
            ],
            [
             0.2222222222222222,
             "#7201a8"
            ],
            [
             0.3333333333333333,
             "#9c179e"
            ],
            [
             0.4444444444444444,
             "#bd3786"
            ],
            [
             0.5555555555555556,
             "#d8576b"
            ],
            [
             0.6666666666666666,
             "#ed7953"
            ],
            [
             0.7777777777777778,
             "#fb9f3a"
            ],
            [
             0.8888888888888888,
             "#fdca26"
            ],
            [
             1,
             "#f0f921"
            ]
           ],
           "sequentialminus": [
            [
             0,
             "#0d0887"
            ],
            [
             0.1111111111111111,
             "#46039f"
            ],
            [
             0.2222222222222222,
             "#7201a8"
            ],
            [
             0.3333333333333333,
             "#9c179e"
            ],
            [
             0.4444444444444444,
             "#bd3786"
            ],
            [
             0.5555555555555556,
             "#d8576b"
            ],
            [
             0.6666666666666666,
             "#ed7953"
            ],
            [
             0.7777777777777778,
             "#fb9f3a"
            ],
            [
             0.8888888888888888,
             "#fdca26"
            ],
            [
             1,
             "#f0f921"
            ]
           ]
          },
          "colorway": [
           "#636efa",
           "#EF553B",
           "#00cc96",
           "#ab63fa",
           "#FFA15A",
           "#19d3f3",
           "#FF6692",
           "#B6E880",
           "#FF97FF",
           "#FECB52"
          ],
          "font": {
           "color": "#2a3f5f"
          },
          "geo": {
           "bgcolor": "white",
           "lakecolor": "white",
           "landcolor": "#E5ECF6",
           "showlakes": true,
           "showland": true,
           "subunitcolor": "white"
          },
          "hoverlabel": {
           "align": "left"
          },
          "hovermode": "closest",
          "mapbox": {
           "style": "light"
          },
          "paper_bgcolor": "white",
          "plot_bgcolor": "#E5ECF6",
          "polar": {
           "angularaxis": {
            "gridcolor": "white",
            "linecolor": "white",
            "ticks": ""
           },
           "bgcolor": "#E5ECF6",
           "radialaxis": {
            "gridcolor": "white",
            "linecolor": "white",
            "ticks": ""
           }
          },
          "scene": {
           "xaxis": {
            "backgroundcolor": "#E5ECF6",
            "gridcolor": "white",
            "gridwidth": 2,
            "linecolor": "white",
            "showbackground": true,
            "ticks": "",
            "zerolinecolor": "white"
           },
           "yaxis": {
            "backgroundcolor": "#E5ECF6",
            "gridcolor": "white",
            "gridwidth": 2,
            "linecolor": "white",
            "showbackground": true,
            "ticks": "",
            "zerolinecolor": "white"
           },
           "zaxis": {
            "backgroundcolor": "#E5ECF6",
            "gridcolor": "white",
            "gridwidth": 2,
            "linecolor": "white",
            "showbackground": true,
            "ticks": "",
            "zerolinecolor": "white"
           }
          },
          "shapedefaults": {
           "line": {
            "color": "#2a3f5f"
           }
          },
          "ternary": {
           "aaxis": {
            "gridcolor": "white",
            "linecolor": "white",
            "ticks": ""
           },
           "baxis": {
            "gridcolor": "white",
            "linecolor": "white",
            "ticks": ""
           },
           "bgcolor": "#E5ECF6",
           "caxis": {
            "gridcolor": "white",
            "linecolor": "white",
            "ticks": ""
           }
          },
          "title": {
           "x": 0.05
          },
          "xaxis": {
           "automargin": true,
           "gridcolor": "white",
           "linecolor": "white",
           "ticks": "",
           "title": {
            "standoff": 15
           },
           "zerolinecolor": "white",
           "zerolinewidth": 2
          },
          "yaxis": {
           "automargin": true,
           "gridcolor": "white",
           "linecolor": "white",
           "ticks": "",
           "title": {
            "standoff": 15
           },
           "zerolinecolor": "white",
           "zerolinewidth": 2
          }
         }
        }
       }
      },
      "text/html": [
       "<div>                            <div id=\"ff60d2c3-be40-4ef2-81d1-c438737fc63a\" class=\"plotly-graph-div\" style=\"height:525px; width:100%;\"></div>            <script type=\"text/javascript\">                require([\"plotly\"], function(Plotly) {                    window.PLOTLYENV=window.PLOTLYENV || {};                                    if (document.getElementById(\"ff60d2c3-be40-4ef2-81d1-c438737fc63a\")) {                    Plotly.newPlot(                        \"ff60d2c3-be40-4ef2-81d1-c438737fc63a\",                        [{\"colorbar\": {\"title\": {\"text\": \"Low rank represents empowerment\"}}, \"colorscale\": [[0.0, \"#440154\"], [0.1111111111111111, \"#482878\"], [0.2222222222222222, \"#3e4989\"], [0.3333333333333333, \"#31688e\"], [0.4444444444444444, \"#26828e\"], [0.5555555555555556, \"#1f9e89\"], [0.6666666666666666, \"#35b779\"], [0.7777777777777778, \"#6ece58\"], [0.8888888888888888, \"#b5de2b\"], [1.0, \"#fde725\"]], \"locationmode\": \"country names\", \"locations\": [\"Cambodia\", \"Indonesia\", \"Japan\", \"Laos\", \"Malaysia\", \"Mongolia\", \"Myanmar\", \"Philippines\", \"Taiwan\", \"Thailand\", \"Afghanistan\", \"Bangladesh\", \"Bhutan\", \"India\", \"Nepal\", \"Pakistan\", \"Algeria\", \"Bahrain\", \"Egypt\", \"Iraq\", \"Israel\", \"Jordan\", \"Kuwait\", \"Lebanon\", \"Libya\", \"Morocco\", \"Oman\", \"Palestine\", \"Qatar\", \"Saudi Arabia\", \"Tunisia\", \"United Arab Emirates\", \"Kazakhstan\", \"Uzbekistan\"], \"text\": [\"Cambodia\", \"Indonesia\", \"Japan\", \"Laos\", \"Malaysia\", \"Mongolia\", \"Myanmar\", \"Philippines\", \"Taiwan\", \"Thailand\", \"Afghanistan\", \"Bangladesh\", \"Bhutan\", \"India\", \"Nepal\", \"Pakistan\", \"Algeria\", \"Bahrain\", \"Egypt\", \"Iraq\", \"Israel\", \"Jordan\", \"Kuwait\", \"Lebanon\", \"Libya\", \"Morocco\", \"Oman\", \"Palestine\", \"Qatar\", \"Saudi Arabia\", \"Tunisia\", \"United Arab Emirates\", \"Kazakhstan\", \"Uzbekistan\"], \"type\": \"choropleth\", \"z\": [10.0, 21.0, 1.0, 29.0, 15.0, 8.0, 6.0, 34.0, 4.0, 12.0, 24.0, 26.0, 9.0, 22.0, 18.0, 27.0, 33.0, 19.0, 7.0, 25.0, 3.0, 31.0, 5.0, 32.0, 23.0, 30.0, 17.0, 28.0, 2.0, 14.0, 13.0, 20.0, 11.0, 16.0]}],                        {\"geo\": {\"projection\": {\"type\": \"natural earth\"}}, \"template\": {\"data\": {\"bar\": [{\"error_x\": {\"color\": \"#2a3f5f\"}, \"error_y\": {\"color\": \"#2a3f5f\"}, \"marker\": {\"line\": {\"color\": \"#E5ECF6\", \"width\": 0.5}}, \"type\": \"bar\"}], \"barpolar\": [{\"marker\": {\"line\": {\"color\": \"#E5ECF6\", \"width\": 0.5}}, \"type\": \"barpolar\"}], \"carpet\": [{\"aaxis\": {\"endlinecolor\": \"#2a3f5f\", \"gridcolor\": \"white\", \"linecolor\": \"white\", \"minorgridcolor\": \"white\", \"startlinecolor\": \"#2a3f5f\"}, \"baxis\": {\"endlinecolor\": \"#2a3f5f\", \"gridcolor\": \"white\", \"linecolor\": \"white\", \"minorgridcolor\": \"white\", \"startlinecolor\": \"#2a3f5f\"}, \"type\": \"carpet\"}], \"choropleth\": [{\"colorbar\": {\"outlinewidth\": 0, \"ticks\": \"\"}, \"type\": \"choropleth\"}], \"contour\": [{\"colorbar\": {\"outlinewidth\": 0, \"ticks\": \"\"}, \"colorscale\": [[0.0, \"#0d0887\"], [0.1111111111111111, \"#46039f\"], [0.2222222222222222, \"#7201a8\"], [0.3333333333333333, \"#9c179e\"], [0.4444444444444444, \"#bd3786\"], [0.5555555555555556, \"#d8576b\"], [0.6666666666666666, \"#ed7953\"], [0.7777777777777778, \"#fb9f3a\"], [0.8888888888888888, \"#fdca26\"], [1.0, \"#f0f921\"]], \"type\": \"contour\"}], \"contourcarpet\": [{\"colorbar\": {\"outlinewidth\": 0, \"ticks\": \"\"}, \"type\": \"contourcarpet\"}], \"heatmap\": [{\"colorbar\": {\"outlinewidth\": 0, \"ticks\": \"\"}, \"colorscale\": [[0.0, \"#0d0887\"], [0.1111111111111111, \"#46039f\"], [0.2222222222222222, \"#7201a8\"], [0.3333333333333333, \"#9c179e\"], [0.4444444444444444, \"#bd3786\"], [0.5555555555555556, \"#d8576b\"], [0.6666666666666666, \"#ed7953\"], [0.7777777777777778, \"#fb9f3a\"], [0.8888888888888888, \"#fdca26\"], [1.0, \"#f0f921\"]], \"type\": \"heatmap\"}], \"heatmapgl\": [{\"colorbar\": {\"outlinewidth\": 0, \"ticks\": \"\"}, \"colorscale\": [[0.0, \"#0d0887\"], [0.1111111111111111, \"#46039f\"], [0.2222222222222222, \"#7201a8\"], [0.3333333333333333, \"#9c179e\"], [0.4444444444444444, \"#bd3786\"], [0.5555555555555556, \"#d8576b\"], [0.6666666666666666, \"#ed7953\"], [0.7777777777777778, \"#fb9f3a\"], [0.8888888888888888, \"#fdca26\"], [1.0, \"#f0f921\"]], \"type\": \"heatmapgl\"}], \"histogram\": [{\"marker\": {\"colorbar\": {\"outlinewidth\": 0, \"ticks\": \"\"}}, \"type\": \"histogram\"}], \"histogram2d\": [{\"colorbar\": {\"outlinewidth\": 0, \"ticks\": \"\"}, \"colorscale\": [[0.0, \"#0d0887\"], [0.1111111111111111, \"#46039f\"], [0.2222222222222222, \"#7201a8\"], [0.3333333333333333, \"#9c179e\"], [0.4444444444444444, \"#bd3786\"], [0.5555555555555556, \"#d8576b\"], [0.6666666666666666, \"#ed7953\"], [0.7777777777777778, \"#fb9f3a\"], [0.8888888888888888, \"#fdca26\"], [1.0, \"#f0f921\"]], \"type\": \"histogram2d\"}], \"histogram2dcontour\": [{\"colorbar\": {\"outlinewidth\": 0, \"ticks\": \"\"}, \"colorscale\": [[0.0, \"#0d0887\"], [0.1111111111111111, \"#46039f\"], [0.2222222222222222, \"#7201a8\"], [0.3333333333333333, \"#9c179e\"], [0.4444444444444444, \"#bd3786\"], [0.5555555555555556, \"#d8576b\"], [0.6666666666666666, \"#ed7953\"], [0.7777777777777778, \"#fb9f3a\"], [0.8888888888888888, \"#fdca26\"], [1.0, \"#f0f921\"]], \"type\": \"histogram2dcontour\"}], \"mesh3d\": [{\"colorbar\": {\"outlinewidth\": 0, \"ticks\": \"\"}, \"type\": \"mesh3d\"}], \"parcoords\": [{\"line\": {\"colorbar\": {\"outlinewidth\": 0, \"ticks\": \"\"}}, \"type\": \"parcoords\"}], \"pie\": [{\"automargin\": true, \"type\": \"pie\"}], \"scatter\": [{\"marker\": {\"colorbar\": {\"outlinewidth\": 0, \"ticks\": \"\"}}, \"type\": \"scatter\"}], \"scatter3d\": [{\"line\": {\"colorbar\": {\"outlinewidth\": 0, \"ticks\": \"\"}}, \"marker\": {\"colorbar\": {\"outlinewidth\": 0, \"ticks\": \"\"}}, \"type\": \"scatter3d\"}], \"scattercarpet\": [{\"marker\": {\"colorbar\": {\"outlinewidth\": 0, \"ticks\": \"\"}}, \"type\": \"scattercarpet\"}], \"scattergeo\": [{\"marker\": {\"colorbar\": {\"outlinewidth\": 0, \"ticks\": \"\"}}, \"type\": \"scattergeo\"}], \"scattergl\": [{\"marker\": {\"colorbar\": {\"outlinewidth\": 0, \"ticks\": \"\"}}, \"type\": \"scattergl\"}], \"scattermapbox\": [{\"marker\": {\"colorbar\": {\"outlinewidth\": 0, \"ticks\": \"\"}}, \"type\": \"scattermapbox\"}], \"scatterpolar\": [{\"marker\": {\"colorbar\": {\"outlinewidth\": 0, \"ticks\": \"\"}}, \"type\": \"scatterpolar\"}], \"scatterpolargl\": [{\"marker\": {\"colorbar\": {\"outlinewidth\": 0, \"ticks\": \"\"}}, \"type\": \"scatterpolargl\"}], \"scatterternary\": [{\"marker\": {\"colorbar\": {\"outlinewidth\": 0, \"ticks\": \"\"}}, \"type\": \"scatterternary\"}], \"surface\": [{\"colorbar\": {\"outlinewidth\": 0, \"ticks\": \"\"}, \"colorscale\": [[0.0, \"#0d0887\"], [0.1111111111111111, \"#46039f\"], [0.2222222222222222, \"#7201a8\"], [0.3333333333333333, \"#9c179e\"], [0.4444444444444444, \"#bd3786\"], [0.5555555555555556, \"#d8576b\"], [0.6666666666666666, \"#ed7953\"], [0.7777777777777778, \"#fb9f3a\"], [0.8888888888888888, \"#fdca26\"], [1.0, \"#f0f921\"]], \"type\": \"surface\"}], \"table\": [{\"cells\": {\"fill\": {\"color\": \"#EBF0F8\"}, \"line\": {\"color\": \"white\"}}, \"header\": {\"fill\": {\"color\": \"#C8D4E3\"}, \"line\": {\"color\": \"white\"}}, \"type\": \"table\"}]}, \"layout\": {\"annotationdefaults\": {\"arrowcolor\": \"#2a3f5f\", \"arrowhead\": 0, \"arrowwidth\": 1}, \"autotypenumbers\": \"strict\", \"coloraxis\": {\"colorbar\": {\"outlinewidth\": 0, \"ticks\": \"\"}}, \"colorscale\": {\"diverging\": [[0, \"#8e0152\"], [0.1, \"#c51b7d\"], [0.2, \"#de77ae\"], [0.3, \"#f1b6da\"], [0.4, \"#fde0ef\"], [0.5, \"#f7f7f7\"], [0.6, \"#e6f5d0\"], [0.7, \"#b8e186\"], [0.8, \"#7fbc41\"], [0.9, \"#4d9221\"], [1, \"#276419\"]], \"sequential\": [[0.0, \"#0d0887\"], [0.1111111111111111, \"#46039f\"], [0.2222222222222222, \"#7201a8\"], [0.3333333333333333, \"#9c179e\"], [0.4444444444444444, \"#bd3786\"], [0.5555555555555556, \"#d8576b\"], [0.6666666666666666, \"#ed7953\"], [0.7777777777777778, \"#fb9f3a\"], [0.8888888888888888, \"#fdca26\"], [1.0, \"#f0f921\"]], \"sequentialminus\": [[0.0, \"#0d0887\"], [0.1111111111111111, \"#46039f\"], [0.2222222222222222, \"#7201a8\"], [0.3333333333333333, \"#9c179e\"], [0.4444444444444444, \"#bd3786\"], [0.5555555555555556, \"#d8576b\"], [0.6666666666666666, \"#ed7953\"], [0.7777777777777778, \"#fb9f3a\"], [0.8888888888888888, \"#fdca26\"], [1.0, \"#f0f921\"]]}, \"colorway\": [\"#636efa\", \"#EF553B\", \"#00cc96\", \"#ab63fa\", \"#FFA15A\", \"#19d3f3\", \"#FF6692\", \"#B6E880\", \"#FF97FF\", \"#FECB52\"], \"font\": {\"color\": \"#2a3f5f\"}, \"geo\": {\"bgcolor\": \"white\", \"lakecolor\": \"white\", \"landcolor\": \"#E5ECF6\", \"showlakes\": true, \"showland\": true, \"subunitcolor\": \"white\"}, \"hoverlabel\": {\"align\": \"left\"}, \"hovermode\": \"closest\", \"mapbox\": {\"style\": \"light\"}, \"paper_bgcolor\": \"white\", \"plot_bgcolor\": \"#E5ECF6\", \"polar\": {\"angularaxis\": {\"gridcolor\": \"white\", \"linecolor\": \"white\", \"ticks\": \"\"}, \"bgcolor\": \"#E5ECF6\", \"radialaxis\": {\"gridcolor\": \"white\", \"linecolor\": \"white\", \"ticks\": \"\"}}, \"scene\": {\"xaxis\": {\"backgroundcolor\": \"#E5ECF6\", \"gridcolor\": \"white\", \"gridwidth\": 2, \"linecolor\": \"white\", \"showbackground\": true, \"ticks\": \"\", \"zerolinecolor\": \"white\"}, \"yaxis\": {\"backgroundcolor\": \"#E5ECF6\", \"gridcolor\": \"white\", \"gridwidth\": 2, \"linecolor\": \"white\", \"showbackground\": true, \"ticks\": \"\", \"zerolinecolor\": \"white\"}, \"zaxis\": {\"backgroundcolor\": \"#E5ECF6\", \"gridcolor\": \"white\", \"gridwidth\": 2, \"linecolor\": \"white\", \"showbackground\": true, \"ticks\": \"\", \"zerolinecolor\": \"white\"}}, \"shapedefaults\": {\"line\": {\"color\": \"#2a3f5f\"}}, \"ternary\": {\"aaxis\": {\"gridcolor\": \"white\", \"linecolor\": \"white\", \"ticks\": \"\"}, \"baxis\": {\"gridcolor\": \"white\", \"linecolor\": \"white\", \"ticks\": \"\"}, \"bgcolor\": \"#E5ECF6\", \"caxis\": {\"gridcolor\": \"white\", \"linecolor\": \"white\", \"ticks\": \"\"}}, \"title\": {\"x\": 0.05}, \"xaxis\": {\"automargin\": true, \"gridcolor\": \"white\", \"linecolor\": \"white\", \"ticks\": \"\", \"title\": {\"standoff\": 15}, \"zerolinecolor\": \"white\", \"zerolinewidth\": 2}, \"yaxis\": {\"automargin\": true, \"gridcolor\": \"white\", \"linecolor\": \"white\", \"ticks\": \"\", \"title\": {\"standoff\": 15}, \"zerolinecolor\": \"white\", \"zerolinewidth\": 2}}}},                        {\"responsive\": true}                    ).then(function(){\n",
       "                            \n",
       "var gd = document.getElementById('ff60d2c3-be40-4ef2-81d1-c438737fc63a');\n",
       "var x = new MutationObserver(function (mutations, observer) {{\n",
       "        var display = window.getComputedStyle(gd).display;\n",
       "        if (!display || display === 'none') {{\n",
       "            console.log([gd, 'removed!']);\n",
       "            Plotly.purge(gd);\n",
       "            observer.disconnect();\n",
       "        }}\n",
       "}});\n",
       "\n",
       "// Listen for the removal of the full notebook cells\n",
       "var notebookContainer = gd.closest('#notebook-container');\n",
       "if (notebookContainer) {{\n",
       "    x.observe(notebookContainer, {childList: true});\n",
       "}}\n",
       "\n",
       "// Listen for the clearing of the current output cell\n",
       "var outputEl = gd.closest('.output');\n",
       "if (outputEl) {{\n",
       "    x.observe(outputEl, {childList: true});\n",
       "}}\n",
       "\n",
       "                        })                };                });            </script>        </div>"
      ]
     },
     "metadata": {},
     "output_type": "display_data"
    }
   ],
   "source": [
    "choromap = go.Figure(data = [data],layout = layout)\n",
    "iplot(choromap,validate=False)"
   ]
  },
  {
   "cell_type": "code",
   "execution_count": null,
   "metadata": {},
   "outputs": [],
   "source": []
  }
 ],
 "metadata": {
  "kernelspec": {
   "display_name": "Python 3",
   "language": "python",
   "name": "python3"
  },
  "language_info": {
   "codemirror_mode": {
    "name": "ipython",
    "version": 3
   },
   "file_extension": ".py",
   "mimetype": "text/x-python",
   "name": "python",
   "nbconvert_exporter": "python",
   "pygments_lexer": "ipython3",
   "version": "3.7.9"
  }
 },
 "nbformat": 4,
 "nbformat_minor": 2
}
